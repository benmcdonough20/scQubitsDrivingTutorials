{
 "cells": [
  {
   "attachments": {},
   "cell_type": "markdown",
   "metadata": {},
   "source": [
    "# Fluxonium CZ gate tutorial\n",
    "\n",
    "B. McDonough\n",
    "\n",
    "This notebook provides a tutorial for using scQubits to simulate the procedure for effecting a CZ-gate on a coupled pair of fluxonium qubits described by Nesterov et al. in [Microwave-Activated Controlled-Z Gate for Fixed-Frequency Fluxonium Qubits.](https://arxiv.org/abs/1802.03095)"
   ]
  },
  {
   "attachments": {},
   "cell_type": "markdown",
   "metadata": {},
   "source": [
    "Capacitive coupling of two fluxonium qubits $A$ and $B$ results in the addition of the term $g \\hat n_A \\hat n_B$ to the Hamiltonian. This coupling shifts the energy levels so that the $\\omega_{01\\to 02}$ transition frequency is detuned from the $\\omega_{11 \\to 12}$ transition frequency. This allows the $\\ket{11} \\to \\ket{12}$ transition to be driven without causing leakage from other states in the computational space. Following Nesterov et al., we consider a drive on only qubit $B$, which is expressed as the term $f(t)\\cos(\\omega_d t)\\hat n_B$ added to the Hamiltonian.\n",
    "\n",
    "Driving the $\\ket{11}\\to\\ket{12}$ transition for a full period results in the $\\ket{11}$ state aquiring a phase of $e^{i\\pi}=-1$, without affecting the other states in the computational subspace. This results in the application of $CZ = \\operatorname{diag}(1,1,1,-1)$ up to single-qubit $Z$ gates.\n",
    "\n",
    "The Hamiltonian of the two coupled fluxonia and the drive is\n",
    "$$\n",
    "H = 8\\pi E_{CA}\\hat n_A - 2\\pi E_{JA}\\cos(\\hat \\phi_A-\\pi) + \\pi E_{LA}\\hat \\phi_A^2\n",
    "+ 2\\pi g\\hat n_A\\hat n_B + 8\\pi E_{CB}\\hat n_B - 2\\pi E_{JB}\\cos(\\hat \\phi_B-\\pi) + \\pi E_{LB}\\hat \\phi_B^2 + f(t)\\cos(w_dt)\\hat n_B\n",
    "$$"
   ]
  },
  {
   "cell_type": "code",
   "execution_count": 2,
   "metadata": {},
   "outputs": [],
   "source": [
    "import scqubits as scq\n",
    "import qutip as qt\n",
    "import numpy as np\n",
    "from matplotlib import pyplot as plt\n",
    "from itertools import product\n",
    "from qutip.qip.operations import rz, cz_gate\n",
    "import cmath\n",
    "\n",
    "#experimental values borrowed from \n",
    "#[https://arxiv.org/abs/1802.03095]\n",
    "qbta = scq.Fluxonium(\n",
    "    EC = 1.5,\n",
    "    EJ = 5.5,\n",
    "    EL = 1.0,\n",
    "    flux = .5, #flux frustration point\n",
    "    cutoff = 110,\n",
    "    truncated_dim = 10\n",
    ")\n",
    "\n",
    "qbtb = scq.Fluxonium(\n",
    "    EC = 1.2,\n",
    "    EJ = 5.7,\n",
    "    EL = 1.0,\n",
    "    flux = .5,\n",
    "    cutoff = 110,\n",
    "    truncated_dim = 10\n",
    ")\n",
    "\n",
    "hilbertspace = scq.HilbertSpace([qbta, qbtb])\n",
    "\n",
    "hilbertspace.add_interaction(\n",
    "    g_strength = .15,\n",
    "    op1 = qbta.n_operator,\n",
    "    op2 = qbtb.n_operator,\n",
    ")\n",
    "\n",
    "hilbertspace.generate_lookup()"
   ]
  },
  {
   "attachments": {},
   "cell_type": "markdown",
   "metadata": {},
   "source": [
    "## Drive simulation functions"
   ]
  },
  {
   "cell_type": "code",
   "execution_count": 14,
   "metadata": {},
   "outputs": [],
   "source": [
    "#get the index of a dressed state closed to a subsystem product state\n",
    "def dressed_index(hilbertspace, *states):\n",
    "    states_by_index = list(sorted([(hilbertspace.get_subsys_index(sys), state) for (sys, state) in states]))\n",
    "    return hilbertspace.dressed_index(list(zip(*states_by_index))[1])[0]\n",
    "\n",
    "def basis_change(operator, subsystem, hilbertspace, dressed_eigenbasis = True):\n",
    "    \"\"\"This method can be used to express a subsystem operator in the dressed energy eigenbasis\n",
    "    of the full hilbertspace, expecially useful for simulations in QuTiP.\n",
    "\n",
    "    Args:\n",
    "        operator (Qobj): A subsystem operator with dimension cutoff x cutoff\n",
    "        subsystem (Qubit or Resonator): The subsystem acted on by the operator\n",
    "        hilbertspace (HilbertSpace): The Hilbert space representing the composite system\n",
    "\n",
    "    Returns:\n",
    "        (Qobj): An operator with the same dimension as the HilbertSpace\n",
    "    \"\"\"\n",
    "\n",
    "    #Get bare eigenvectors of subsystem stored in hilbertspace\n",
    "    bare_evecs, = hilbertspace.bare_eigenstates(subsystem)\n",
    "    #Express operator in bare eigenbasis and tensor with appropriate identities\n",
    "    op_id_wrap = scq.identity_wrap(operator, subsystem, hilbertspace.subsys_list, evecs = bare_evecs)\n",
    "    #Get full dressed eigenbasis\n",
    "    evecs, = hilbertspace[\"evecs\"]\n",
    "    return op_id_wrap.transform(evecs)\n",
    "\n",
    "#truncate operators to desdired dimension\n",
    "def truncate(operator, truncation):\n",
    "    return qt.Qobj(operator[:truncation, : truncation])\n",
    "\n",
    "#get the transition frequency between two states specified by dressed indices\n",
    "def transition_frequency(s0, s1):\n",
    "    return hilbertspace.energy_by_dressed_index(s1)-hilbertspace.energy_by_dressed_index(s0)"
   ]
  },
  {
   "attachments": {},
   "cell_type": "markdown",
   "metadata": {},
   "source": [
    "## States and operators "
   ]
  },
  {
   "cell_type": "code",
   "execution_count": 15,
   "metadata": {},
   "outputs": [],
   "source": [
    "#The matrix representations can be truncated further for the simulation\n",
    "total_truncation = 20\n",
    "\n",
    "#charge operator for qubit b\n",
    "n_b = basis_change(qbtb.n_operator(), qbta, hilbertspace)\n",
    "n_b = truncate(n_b, total_truncation) "
   ]
  },
  {
   "cell_type": "code",
   "execution_count": 6,
   "metadata": {},
   "outputs": [],
   "source": [
    "#convert the product states to the closes eigenstates of the dressed system\n",
    "product_states = [(0,0),(0,1),(1,0),(1,1),(1,2)]\n",
    "idxs = [dressed_index(hilbertspace, (qbta, s1),(qbtb, s2)) for (s1,s2) in product_states]\n",
    "states = [qt.basis(total_truncation, idx) for idx in idxs]\n",
    "\n",
    "#The computational subspace is spanned by the first 4 states\n",
    "computational_subspace = states[:4]"
   ]
  },
  {
   "cell_type": "code",
   "execution_count": 16,
   "metadata": {},
   "outputs": [],
   "source": [
    "omega_1112 = transition_frequency(idxs[3], idxs[4])*2*np.pi\n",
    "\n",
    "#Gaussian pulse\n",
    "A = .02\n",
    "tg = 100\n",
    "def drive_coeff(t, args):\n",
    "    return A*np.exp(-8*t*(t-tg)/tg**2)*np.cos(omega_1112*t)\n",
    "\n",
    "#Hamiltonian in dressed eigenbasis\n",
    "evals, = hilbertspace[\"evals\"]\n",
    "#The factor of 2pi converts the energy to GHz so that the time is in units of ns\n",
    "diag_dressed_hamiltonian = 2*np.pi*qt.Qobj(np.diag(evals), dims = [hilbertspace.subsystem_dims]*2)\n",
    "diag_dressed_hamiltonian_trunc = truncate(diag_dressed_hamiltonian, total_truncation)\n",
    "\n",
    "#time-dependent drive Hamiltonian\n",
    "H_qbt_drive = [\n",
    "    diag_dressed_hamiltonian_trunc,\n",
    "    [2*np.pi*n_b, drive_coeff] #driving through the resonator\n",
    "]"
   ]
  },
  {
   "attachments": {},
   "cell_type": "markdown",
   "metadata": {},
   "source": [
    "## Drive Visualization"
   ]
  },
  {
   "cell_type": "code",
   "execution_count": 8,
   "metadata": {},
   "outputs": [
    {
     "data": {
      "text/plain": [
       "Text(0.5, 0, 't (ns)')"
      ]
     },
     "execution_count": 8,
     "metadata": {},
     "output_type": "execute_result"
    },
    {
     "data": {
      "application/pdf": "[encoded data removed]",
      "image/svg+xml": "<?xml version=\"1.0\" encoding=\"utf-8\" standalone=\"no\"?>\n<!DOCTYPE svg PUBLIC \"-//W3C//DTD SVG 1.1//EN\"\n  \"http://www.w3.org/Graphics/SVG/1.1/DTD/svg11.dtd\">\n<svg xmlns:xlink=\"http://www.w3.org/1999/xlink\" width=\"386.749062pt\" height=\"263.164062pt\" viewBox=\"0 0 386.749062 263.164062\" xmlns=\"http://www.w3.org/2000/svg\" version=\"1.1\">\n <metadata>\n  <rdf:RDF xmlns:dc=\"http://purl.org/dc/elements/1.1/\" xmlns:cc=\"http://creativecommons.org/ns#\" xmlns:rdf=\"http://www.w3.org/1999/02/22-rdf-syntax-ns#\">\n   <cc:Work>\n    <dc:type rdf:resource=\"http://purl.org/dc/dcmitype/StillImage\"/>\n    <dc:date>2023-01-10T05:16:06.577281</dc:date>\n    <dc:format>image/svg+xml</dc:format>\n    <dc:creator>\n     <cc:Agent>\n      <dc:title>Matplotlib v3.5.1, https://matplotlib.org/</dc:title>\n     </cc:Agent>\n    </dc:creator>\n   </cc:Work>\n  </rdf:RDF>\n </metadata>\n <defs>\n  <style type=\"text/css\">*{stroke-linejoin: round; stroke-linecap: butt}</style>\n </defs>\n <g id=\"figure_1\">\n  <g id=\"patch_1\">\n   <path d=\"M 0 263.164062 \nL 386.749062 263.164062 \nL 386.749062 0 \nL 0 0 \nL 0 263.164062 \nz\n\" style=\"fill: none\"/>\n  </g>\n  <g id=\"axes_1\">\n   <g id=\"patch_2\">\n    <path d=\"M 44.749063 224.64 \nL 379.549062 224.64 \nL 379.549062 7.2 \nL 44.749063 7.2 \nz\n\" style=\"fill: #ffffff\"/>\n   </g>\n   <g id=\"matplotlib.axis_1\">\n    <g id=\"xtick_1\">\n     <g id=\"line2d_1\">\n      <defs>\n       <path id=\"m7c2326170e\" d=\"M 0 0 \nL 0 3.5 \n\" style=\"stroke: #000000; stroke-width: 0.8\"/>\n      </defs>\n      <g>\n       <use xlink:href=\"#m7c2326170e\" x=\"59.967244\" y=\"224.64\" style=\"stroke: #000000; stroke-width: 0.8\"/>\n      </g>\n     </g>\n     <g id=\"text_1\">\n      <!-- 0 -->\n      <g transform=\"translate(56.785994 239.238438)scale(0.1 -0.1)\">\n       <defs>\n        <path id=\"DejaVuSans-30\" d=\"M 2034 4250 \nQ 1547 4250 1301 3770 \nQ 1056 3291 1056 2328 \nQ 1056 1369 1301 889 \nQ 1547 409 2034 409 \nQ 2525 409 2770 889 \nQ 3016 1369 3016 2328 \nQ 3016 3291 2770 3770 \nQ 2525 4250 2034 4250 \nz\nM 2034 4750 \nQ 2819 4750 3233 4129 \nQ 3647 3509 3647 2328 \nQ 3647 1150 3233 529 \nQ 2819 -91 2034 -91 \nQ 1250 -91 836 529 \nQ 422 1150 422 2328 \nQ 422 3509 836 4129 \nQ 1250 4750 2034 4750 \nz\n\" transform=\"scale(0.015625)\"/>\n       </defs>\n       <use xlink:href=\"#DejaVuSans-30\"/>\n      </g>\n     </g>\n    </g>\n    <g id=\"xtick_2\">\n     <g id=\"line2d_2\">\n      <g>\n       <use xlink:href=\"#m7c2326170e\" x=\"110.694517\" y=\"224.64\" style=\"stroke: #000000; stroke-width: 0.8\"/>\n      </g>\n     </g>\n     <g id=\"text_2\">\n      <!-- 20 -->\n      <g transform=\"translate(104.332017 239.238438)scale(0.1 -0.1)\">\n       <defs>\n        <path id=\"DejaVuSans-32\" d=\"M 1228 531 \nL 3431 531 \nL 3431 0 \nL 469 0 \nL 469 531 \nQ 828 903 1448 1529 \nQ 2069 2156 2228 2338 \nQ 2531 2678 2651 2914 \nQ 2772 3150 2772 3378 \nQ 2772 3750 2511 3984 \nQ 2250 4219 1831 4219 \nQ 1534 4219 1204 4116 \nQ 875 4013 500 3803 \nL 500 4441 \nQ 881 4594 1212 4672 \nQ 1544 4750 1819 4750 \nQ 2544 4750 2975 4387 \nQ 3406 4025 3406 3419 \nQ 3406 3131 3298 2873 \nQ 3191 2616 2906 2266 \nQ 2828 2175 2409 1742 \nQ 1991 1309 1228 531 \nz\n\" transform=\"scale(0.015625)\"/>\n       </defs>\n       <use xlink:href=\"#DejaVuSans-32\"/>\n       <use xlink:href=\"#DejaVuSans-30\" x=\"63.623047\"/>\n      </g>\n     </g>\n    </g>\n    <g id=\"xtick_3\">\n     <g id=\"line2d_3\">\n      <g>\n       <use xlink:href=\"#m7c2326170e\" x=\"161.42179\" y=\"224.64\" style=\"stroke: #000000; stroke-width: 0.8\"/>\n      </g>\n     </g>\n     <g id=\"text_3\">\n      <!-- 40 -->\n      <g transform=\"translate(155.05929 239.238438)scale(0.1 -0.1)\">\n       <defs>\n        <path id=\"DejaVuSans-34\" d=\"M 2419 4116 \nL 825 1625 \nL 2419 1625 \nL 2419 4116 \nz\nM 2253 4666 \nL 3047 4666 \nL 3047 1625 \nL 3713 1625 \nL 3713 1100 \nL 3047 1100 \nL 3047 0 \nL 2419 0 \nL 2419 1100 \nL 313 1100 \nL 313 1709 \nL 2253 4666 \nz\n\" transform=\"scale(0.015625)\"/>\n       </defs>\n       <use xlink:href=\"#DejaVuSans-34\"/>\n       <use xlink:href=\"#DejaVuSans-30\" x=\"63.623047\"/>\n      </g>\n     </g>\n    </g>\n    <g id=\"xtick_4\">\n     <g id=\"line2d_4\">\n      <g>\n       <use xlink:href=\"#m7c2326170e\" x=\"212.149062\" y=\"224.64\" style=\"stroke: #000000; stroke-width: 0.8\"/>\n      </g>\n     </g>\n     <g id=\"text_4\">\n      <!-- 60 -->\n      <g transform=\"translate(205.786562 239.238438)scale(0.1 -0.1)\">\n       <defs>\n        <path id=\"DejaVuSans-36\" d=\"M 2113 2584 \nQ 1688 2584 1439 2293 \nQ 1191 2003 1191 1497 \nQ 1191 994 1439 701 \nQ 1688 409 2113 409 \nQ 2538 409 2786 701 \nQ 3034 994 3034 1497 \nQ 3034 2003 2786 2293 \nQ 2538 2584 2113 2584 \nz\nM 3366 4563 \nL 3366 3988 \nQ 3128 4100 2886 4159 \nQ 2644 4219 2406 4219 \nQ 1781 4219 1451 3797 \nQ 1122 3375 1075 2522 \nQ 1259 2794 1537 2939 \nQ 1816 3084 2150 3084 \nQ 2853 3084 3261 2657 \nQ 3669 2231 3669 1497 \nQ 3669 778 3244 343 \nQ 2819 -91 2113 -91 \nQ 1303 -91 875 529 \nQ 447 1150 447 2328 \nQ 447 3434 972 4092 \nQ 1497 4750 2381 4750 \nQ 2619 4750 2861 4703 \nQ 3103 4656 3366 4563 \nz\n\" transform=\"scale(0.015625)\"/>\n       </defs>\n       <use xlink:href=\"#DejaVuSans-36\"/>\n       <use xlink:href=\"#DejaVuSans-30\" x=\"63.623047\"/>\n      </g>\n     </g>\n    </g>\n    <g id=\"xtick_5\">\n     <g id=\"line2d_5\">\n      <g>\n       <use xlink:href=\"#m7c2326170e\" x=\"262.876335\" y=\"224.64\" style=\"stroke: #000000; stroke-width: 0.8\"/>\n      </g>\n     </g>\n     <g id=\"text_5\">\n      <!-- 80 -->\n      <g transform=\"translate(256.513835 239.238438)scale(0.1 -0.1)\">\n       <defs>\n        <path id=\"DejaVuSans-38\" d=\"M 2034 2216 \nQ 1584 2216 1326 1975 \nQ 1069 1734 1069 1313 \nQ 1069 891 1326 650 \nQ 1584 409 2034 409 \nQ 2484 409 2743 651 \nQ 3003 894 3003 1313 \nQ 3003 1734 2745 1975 \nQ 2488 2216 2034 2216 \nz\nM 1403 2484 \nQ 997 2584 770 2862 \nQ 544 3141 544 3541 \nQ 544 4100 942 4425 \nQ 1341 4750 2034 4750 \nQ 2731 4750 3128 4425 \nQ 3525 4100 3525 3541 \nQ 3525 3141 3298 2862 \nQ 3072 2584 2669 2484 \nQ 3125 2378 3379 2068 \nQ 3634 1759 3634 1313 \nQ 3634 634 3220 271 \nQ 2806 -91 2034 -91 \nQ 1263 -91 848 271 \nQ 434 634 434 1313 \nQ 434 1759 690 2068 \nQ 947 2378 1403 2484 \nz\nM 1172 3481 \nQ 1172 3119 1398 2916 \nQ 1625 2713 2034 2713 \nQ 2441 2713 2670 2916 \nQ 2900 3119 2900 3481 \nQ 2900 3844 2670 4047 \nQ 2441 4250 2034 4250 \nQ 1625 4250 1398 4047 \nQ 1172 3844 1172 3481 \nz\n\" transform=\"scale(0.015625)\"/>\n       </defs>\n       <use xlink:href=\"#DejaVuSans-38\"/>\n       <use xlink:href=\"#DejaVuSans-30\" x=\"63.623047\"/>\n      </g>\n     </g>\n    </g>\n    <g id=\"xtick_6\">\n     <g id=\"line2d_6\">\n      <g>\n       <use xlink:href=\"#m7c2326170e\" x=\"313.603608\" y=\"224.64\" style=\"stroke: #000000; stroke-width: 0.8\"/>\n      </g>\n     </g>\n     <g id=\"text_6\">\n      <!-- 100 -->\n      <g transform=\"translate(304.059858 239.238438)scale(0.1 -0.1)\">\n       <defs>\n        <path id=\"DejaVuSans-31\" d=\"M 794 531 \nL 1825 531 \nL 1825 4091 \nL 703 3866 \nL 703 4441 \nL 1819 4666 \nL 2450 4666 \nL 2450 531 \nL 3481 531 \nL 3481 0 \nL 794 0 \nL 794 531 \nz\n\" transform=\"scale(0.015625)\"/>\n       </defs>\n       <use xlink:href=\"#DejaVuSans-31\"/>\n       <use xlink:href=\"#DejaVuSans-30\" x=\"63.623047\"/>\n       <use xlink:href=\"#DejaVuSans-30\" x=\"127.246094\"/>\n      </g>\n     </g>\n    </g>\n    <g id=\"xtick_7\">\n     <g id=\"line2d_7\">\n      <g>\n       <use xlink:href=\"#m7c2326170e\" x=\"364.330881\" y=\"224.64\" style=\"stroke: #000000; stroke-width: 0.8\"/>\n      </g>\n     </g>\n     <g id=\"text_7\">\n      <!-- 120 -->\n      <g transform=\"translate(354.787131 239.238438)scale(0.1 -0.1)\">\n       <use xlink:href=\"#DejaVuSans-31\"/>\n       <use xlink:href=\"#DejaVuSans-32\" x=\"63.623047\"/>\n       <use xlink:href=\"#DejaVuSans-30\" x=\"127.246094\"/>\n      </g>\n     </g>\n    </g>\n    <g id=\"text_8\">\n     <!-- t (ns) -->\n     <g transform=\"translate(197.602422 253.676406)scale(0.11 -0.11)\">\n      <defs>\n       <path id=\"DejaVuSans-74\" d=\"M 1172 4494 \nL 1172 3500 \nL 2356 3500 \nL 2356 3053 \nL 1172 3053 \nL 1172 1153 \nQ 1172 725 1289 603 \nQ 1406 481 1766 481 \nL 2356 481 \nL 2356 0 \nL 1766 0 \nQ 1100 0 847 248 \nQ 594 497 594 1153 \nL 594 3053 \nL 172 3053 \nL 172 3500 \nL 594 3500 \nL 594 4494 \nL 1172 4494 \nz\n\" transform=\"scale(0.015625)\"/>\n       <path id=\"DejaVuSans-20\" transform=\"scale(0.015625)\"/>\n       <path id=\"DejaVuSans-28\" d=\"M 1984 4856 \nQ 1566 4138 1362 3434 \nQ 1159 2731 1159 2009 \nQ 1159 1288 1364 580 \nQ 1569 -128 1984 -844 \nL 1484 -844 \nQ 1016 -109 783 600 \nQ 550 1309 550 2009 \nQ 550 2706 781 3412 \nQ 1013 4119 1484 4856 \nL 1984 4856 \nz\n\" transform=\"scale(0.015625)\"/>\n       <path id=\"DejaVuSans-6e\" d=\"M 3513 2113 \nL 3513 0 \nL 2938 0 \nL 2938 2094 \nQ 2938 2591 2744 2837 \nQ 2550 3084 2163 3084 \nQ 1697 3084 1428 2787 \nQ 1159 2491 1159 1978 \nL 1159 0 \nL 581 0 \nL 581 3500 \nL 1159 3500 \nL 1159 2956 \nQ 1366 3272 1645 3428 \nQ 1925 3584 2291 3584 \nQ 2894 3584 3203 3211 \nQ 3513 2838 3513 2113 \nz\n\" transform=\"scale(0.015625)\"/>\n       <path id=\"DejaVuSans-73\" d=\"M 2834 3397 \nL 2834 2853 \nQ 2591 2978 2328 3040 \nQ 2066 3103 1784 3103 \nQ 1356 3103 1142 2972 \nQ 928 2841 928 2578 \nQ 928 2378 1081 2264 \nQ 1234 2150 1697 2047 \nL 1894 2003 \nQ 2506 1872 2764 1633 \nQ 3022 1394 3022 966 \nQ 3022 478 2636 193 \nQ 2250 -91 1575 -91 \nQ 1294 -91 989 -36 \nQ 684 19 347 128 \nL 347 722 \nQ 666 556 975 473 \nQ 1284 391 1588 391 \nQ 1994 391 2212 530 \nQ 2431 669 2431 922 \nQ 2431 1156 2273 1281 \nQ 2116 1406 1581 1522 \nL 1381 1569 \nQ 847 1681 609 1914 \nQ 372 2147 372 2553 \nQ 372 3047 722 3315 \nQ 1072 3584 1716 3584 \nQ 2034 3584 2315 3537 \nQ 2597 3491 2834 3397 \nz\n\" transform=\"scale(0.015625)\"/>\n       <path id=\"DejaVuSans-29\" d=\"M 513 4856 \nL 1013 4856 \nQ 1481 4119 1714 3412 \nQ 1947 2706 1947 2009 \nQ 1947 1309 1714 600 \nQ 1481 -109 1013 -844 \nL 513 -844 \nQ 928 -128 1133 580 \nQ 1338 1288 1338 2009 \nQ 1338 2731 1133 3434 \nQ 928 4138 513 4856 \nz\n\" transform=\"scale(0.015625)\"/>\n      </defs>\n      <use xlink:href=\"#DejaVuSans-74\"/>\n      <use xlink:href=\"#DejaVuSans-20\" x=\"39.208984\"/>\n      <use xlink:href=\"#DejaVuSans-28\" x=\"70.996094\"/>\n      <use xlink:href=\"#DejaVuSans-6e\" x=\"110.009766\"/>\n      <use xlink:href=\"#DejaVuSans-73\" x=\"173.388672\"/>\n      <use xlink:href=\"#DejaVuSans-29\" x=\"225.488281\"/>\n     </g>\n    </g>\n   </g>\n   <g id=\"matplotlib.axis_2\">\n    <g id=\"ytick_1\">\n     <g id=\"line2d_8\">\n      <defs>\n       <path id=\"mf48a1e0d6d\" d=\"M 0 0 \nL -3.5 0 \n\" style=\"stroke: #000000; stroke-width: 0.8\"/>\n      </defs>\n      <g>\n       <use xlink:href=\"#mf48a1e0d6d\" x=\"44.749063\" y=\"214.756364\" style=\"stroke: #000000; stroke-width: 0.8\"/>\n      </g>\n     </g>\n     <g id=\"text_9\">\n      <!-- 0.0 -->\n      <g transform=\"translate(21.845938 218.555582)scale(0.1 -0.1)\">\n       <defs>\n        <path id=\"DejaVuSans-2e\" d=\"M 684 794 \nL 1344 794 \nL 1344 0 \nL 684 0 \nL 684 794 \nz\n\" transform=\"scale(0.015625)\"/>\n       </defs>\n       <use xlink:href=\"#DejaVuSans-30\"/>\n       <use xlink:href=\"#DejaVuSans-2e\" x=\"63.623047\"/>\n       <use xlink:href=\"#DejaVuSans-30\" x=\"95.410156\"/>\n      </g>\n     </g>\n    </g>\n    <g id=\"ytick_2\">\n     <g id=\"line2d_9\">\n      <g>\n       <use xlink:href=\"#mf48a1e0d6d\" x=\"44.749063\" y=\"175.221818\" style=\"stroke: #000000; stroke-width: 0.8\"/>\n      </g>\n     </g>\n     <g id=\"text_10\">\n      <!-- 0.2 -->\n      <g transform=\"translate(21.845938 179.021037)scale(0.1 -0.1)\">\n       <use xlink:href=\"#DejaVuSans-30\"/>\n       <use xlink:href=\"#DejaVuSans-2e\" x=\"63.623047\"/>\n       <use xlink:href=\"#DejaVuSans-32\" x=\"95.410156\"/>\n      </g>\n     </g>\n    </g>\n    <g id=\"ytick_3\">\n     <g id=\"line2d_10\">\n      <g>\n       <use xlink:href=\"#mf48a1e0d6d\" x=\"44.749063\" y=\"135.687273\" style=\"stroke: #000000; stroke-width: 0.8\"/>\n      </g>\n     </g>\n     <g id=\"text_11\">\n      <!-- 0.4 -->\n      <g transform=\"translate(21.845938 139.486491)scale(0.1 -0.1)\">\n       <use xlink:href=\"#DejaVuSans-30\"/>\n       <use xlink:href=\"#DejaVuSans-2e\" x=\"63.623047\"/>\n       <use xlink:href=\"#DejaVuSans-34\" x=\"95.410156\"/>\n      </g>\n     </g>\n    </g>\n    <g id=\"ytick_4\">\n     <g id=\"line2d_11\">\n      <g>\n       <use xlink:href=\"#mf48a1e0d6d\" x=\"44.749063\" y=\"96.152727\" style=\"stroke: #000000; stroke-width: 0.8\"/>\n      </g>\n     </g>\n     <g id=\"text_12\">\n      <!-- 0.6 -->\n      <g transform=\"translate(21.845938 99.951946)scale(0.1 -0.1)\">\n       <use xlink:href=\"#DejaVuSans-30\"/>\n       <use xlink:href=\"#DejaVuSans-2e\" x=\"63.623047\"/>\n       <use xlink:href=\"#DejaVuSans-36\" x=\"95.410156\"/>\n      </g>\n     </g>\n    </g>\n    <g id=\"ytick_5\">\n     <g id=\"line2d_12\">\n      <g>\n       <use xlink:href=\"#mf48a1e0d6d\" x=\"44.749063\" y=\"56.618182\" style=\"stroke: #000000; stroke-width: 0.8\"/>\n      </g>\n     </g>\n     <g id=\"text_13\">\n      <!-- 0.8 -->\n      <g transform=\"translate(21.845938 60.417401)scale(0.1 -0.1)\">\n       <use xlink:href=\"#DejaVuSans-30\"/>\n       <use xlink:href=\"#DejaVuSans-2e\" x=\"63.623047\"/>\n       <use xlink:href=\"#DejaVuSans-38\" x=\"95.410156\"/>\n      </g>\n     </g>\n    </g>\n    <g id=\"ytick_6\">\n     <g id=\"line2d_13\">\n      <g>\n       <use xlink:href=\"#mf48a1e0d6d\" x=\"44.749063\" y=\"17.083636\" style=\"stroke: #000000; stroke-width: 0.8\"/>\n      </g>\n     </g>\n     <g id=\"text_14\">\n      <!-- 1.0 -->\n      <g transform=\"translate(21.845938 20.882855)scale(0.1 -0.1)\">\n       <use xlink:href=\"#DejaVuSans-31\"/>\n       <use xlink:href=\"#DejaVuSans-2e\" x=\"63.623047\"/>\n       <use xlink:href=\"#DejaVuSans-30\" x=\"95.410156\"/>\n      </g>\n     </g>\n    </g>\n    <g id=\"text_15\">\n     <!-- population -->\n     <g transform=\"translate(15.558281 145.187734)rotate(-90)scale(0.11 -0.11)\">\n      <defs>\n       <path id=\"DejaVuSans-70\" d=\"M 1159 525 \nL 1159 -1331 \nL 581 -1331 \nL 581 3500 \nL 1159 3500 \nL 1159 2969 \nQ 1341 3281 1617 3432 \nQ 1894 3584 2278 3584 \nQ 2916 3584 3314 3078 \nQ 3713 2572 3713 1747 \nQ 3713 922 3314 415 \nQ 2916 -91 2278 -91 \nQ 1894 -91 1617 61 \nQ 1341 213 1159 525 \nz\nM 3116 1747 \nQ 3116 2381 2855 2742 \nQ 2594 3103 2138 3103 \nQ 1681 3103 1420 2742 \nQ 1159 2381 1159 1747 \nQ 1159 1113 1420 752 \nQ 1681 391 2138 391 \nQ 2594 391 2855 752 \nQ 3116 1113 3116 1747 \nz\n\" transform=\"scale(0.015625)\"/>\n       <path id=\"DejaVuSans-6f\" d=\"M 1959 3097 \nQ 1497 3097 1228 2736 \nQ 959 2375 959 1747 \nQ 959 1119 1226 758 \nQ 1494 397 1959 397 \nQ 2419 397 2687 759 \nQ 2956 1122 2956 1747 \nQ 2956 2369 2687 2733 \nQ 2419 3097 1959 3097 \nz\nM 1959 3584 \nQ 2709 3584 3137 3096 \nQ 3566 2609 3566 1747 \nQ 3566 888 3137 398 \nQ 2709 -91 1959 -91 \nQ 1206 -91 779 398 \nQ 353 888 353 1747 \nQ 353 2609 779 3096 \nQ 1206 3584 1959 3584 \nz\n\" transform=\"scale(0.015625)\"/>\n       <path id=\"DejaVuSans-75\" d=\"M 544 1381 \nL 544 3500 \nL 1119 3500 \nL 1119 1403 \nQ 1119 906 1312 657 \nQ 1506 409 1894 409 \nQ 2359 409 2629 706 \nQ 2900 1003 2900 1516 \nL 2900 3500 \nL 3475 3500 \nL 3475 0 \nL 2900 0 \nL 2900 538 \nQ 2691 219 2414 64 \nQ 2138 -91 1772 -91 \nQ 1169 -91 856 284 \nQ 544 659 544 1381 \nz\nM 1991 3584 \nL 1991 3584 \nz\n\" transform=\"scale(0.015625)\"/>\n       <path id=\"DejaVuSans-6c\" d=\"M 603 4863 \nL 1178 4863 \nL 1178 0 \nL 603 0 \nL 603 4863 \nz\n\" transform=\"scale(0.015625)\"/>\n       <path id=\"DejaVuSans-61\" d=\"M 2194 1759 \nQ 1497 1759 1228 1600 \nQ 959 1441 959 1056 \nQ 959 750 1161 570 \nQ 1363 391 1709 391 \nQ 2188 391 2477 730 \nQ 2766 1069 2766 1631 \nL 2766 1759 \nL 2194 1759 \nz\nM 3341 1997 \nL 3341 0 \nL 2766 0 \nL 2766 531 \nQ 2569 213 2275 61 \nQ 1981 -91 1556 -91 \nQ 1019 -91 701 211 \nQ 384 513 384 1019 \nQ 384 1609 779 1909 \nQ 1175 2209 1959 2209 \nL 2766 2209 \nL 2766 2266 \nQ 2766 2663 2505 2880 \nQ 2244 3097 1772 3097 \nQ 1472 3097 1187 3025 \nQ 903 2953 641 2809 \nL 641 3341 \nQ 956 3463 1253 3523 \nQ 1550 3584 1831 3584 \nQ 2591 3584 2966 3190 \nQ 3341 2797 3341 1997 \nz\n\" transform=\"scale(0.015625)\"/>\n       <path id=\"DejaVuSans-69\" d=\"M 603 3500 \nL 1178 3500 \nL 1178 0 \nL 603 0 \nL 603 3500 \nz\nM 603 4863 \nL 1178 4863 \nL 1178 4134 \nL 603 4134 \nL 603 4863 \nz\n\" transform=\"scale(0.015625)\"/>\n      </defs>\n      <use xlink:href=\"#DejaVuSans-70\"/>\n      <use xlink:href=\"#DejaVuSans-6f\" x=\"63.476562\"/>\n      <use xlink:href=\"#DejaVuSans-70\" x=\"124.658203\"/>\n      <use xlink:href=\"#DejaVuSans-75\" x=\"188.134766\"/>\n      <use xlink:href=\"#DejaVuSans-6c\" x=\"251.513672\"/>\n      <use xlink:href=\"#DejaVuSans-61\" x=\"279.296875\"/>\n      <use xlink:href=\"#DejaVuSans-74\" x=\"340.576172\"/>\n      <use xlink:href=\"#DejaVuSans-69\" x=\"379.785156\"/>\n      <use xlink:href=\"#DejaVuSans-6f\" x=\"407.568359\"/>\n      <use xlink:href=\"#DejaVuSans-6e\" x=\"468.75\"/>\n     </g>\n    </g>\n   </g>\n   <g id=\"line2d_14\">\n    <path d=\"M 59.967244 214.756364 \nL 62.524922 214.756364 \nL 65.0826 214.756364 \nL 67.640277 214.756364 \nL 70.197955 214.756364 \nL 72.755632 214.756364 \nL 75.31331 214.756364 \nL 77.870988 214.756364 \nL 80.428665 214.756364 \nL 82.986343 214.756364 \nL 85.54402 214.756364 \nL 88.101698 214.756364 \nL 90.659376 214.756364 \nL 93.217053 214.756364 \nL 95.774731 214.756364 \nL 98.332409 214.756364 \nL 100.890086 214.756364 \nL 103.447764 214.756364 \nL 106.005441 214.756364 \nL 108.563119 214.756364 \nL 111.120797 214.756364 \nL 113.678474 214.756364 \nL 116.236152 214.756364 \nL 118.793829 214.756364 \nL 121.351507 214.756364 \nL 123.909185 214.756364 \nL 126.466862 214.756364 \nL 129.02454 214.756364 \nL 131.582218 214.756364 \nL 134.139895 214.756364 \nL 136.697573 214.756364 \nL 139.25525 214.756364 \nL 141.812928 214.756364 \nL 144.370606 214.756364 \nL 146.928283 214.756364 \nL 149.485961 214.756364 \nL 152.043639 214.756364 \nL 154.601316 214.756364 \nL 157.158994 214.756364 \nL 159.716671 214.756364 \nL 162.274349 214.756364 \nL 164.832027 214.756364 \nL 167.389704 214.756364 \nL 169.947382 214.756364 \nL 172.505059 214.756364 \nL 175.062737 214.756364 \nL 177.620415 214.756364 \nL 180.178092 214.756364 \nL 182.73577 214.756364 \nL 185.293448 214.756364 \nL 187.851125 214.756364 \nL 190.408803 214.756364 \nL 192.96648 214.756364 \nL 195.524158 214.756364 \nL 198.081836 214.756364 \nL 200.639513 214.756364 \nL 203.197191 214.756364 \nL 205.754868 214.756364 \nL 208.312546 214.756364 \nL 210.870224 214.756364 \nL 213.427901 214.756364 \nL 215.985579 214.756364 \nL 218.543257 214.756364 \nL 221.100934 214.756364 \nL 223.658612 214.756364 \nL 226.216289 214.756364 \nL 228.773967 214.756364 \nL 231.331645 214.756364 \nL 233.889322 214.756364 \nL 236.447 214.756364 \nL 239.004677 214.756364 \nL 241.562355 214.756364 \nL 244.120033 214.756364 \nL 246.67771 214.756364 \nL 249.235388 214.756364 \nL 251.793066 214.756364 \nL 254.350743 214.756364 \nL 256.908421 214.756364 \nL 259.466098 214.756364 \nL 262.023776 214.756364 \nL 264.581454 214.756364 \nL 267.139131 214.756364 \nL 269.696809 214.756364 \nL 272.254486 214.756364 \nL 274.812164 214.756364 \nL 277.369842 214.756364 \nL 279.927519 214.756364 \nL 282.485197 214.756364 \nL 285.042875 214.756364 \nL 287.600552 214.756364 \nL 290.15823 214.756364 \nL 292.715907 214.756364 \nL 295.273585 214.756364 \nL 297.831263 214.756364 \nL 300.38894 214.756364 \nL 302.946618 214.756364 \nL 305.504296 214.756364 \nL 308.061973 214.756364 \nL 310.619651 214.756364 \nL 313.177328 214.756364 \nL 315.735006 214.756364 \nL 318.292684 214.756364 \nL 320.850361 214.756364 \nL 323.408039 214.756364 \nL 325.965716 214.756364 \nL 328.523394 214.756364 \nL 331.081072 214.756364 \nL 333.638749 214.756364 \nL 336.196427 214.756364 \nL 338.754105 214.756364 \nL 341.311782 214.756364 \nL 343.86946 214.756364 \nL 346.427137 214.756364 \nL 348.984815 214.756364 \nL 351.542493 214.756364 \nL 354.10017 214.756364 \nL 356.657848 214.756364 \nL 359.215525 214.756364 \nL 361.773203 214.756364 \nL 364.330881 214.756364 \n\" clip-path=\"url(#pcf229fb567)\" style=\"fill: none; stroke: #016e82; stroke-width: 1.5; stroke-linecap: square\"/>\n   </g>\n   <g id=\"line2d_15\">\n    <path d=\"M 59.967244 214.756364 \nL 62.524922 214.756311 \nL 65.0826 214.756327 \nL 67.640277 214.756315 \nL 70.197955 214.756276 \nL 72.755632 214.756362 \nL 75.31331 214.756247 \nL 77.870988 214.756311 \nL 80.428665 214.756259 \nL 82.986343 214.756192 \nL 85.54402 214.756352 \nL 88.101698 214.756126 \nL 90.659376 214.756297 \nL 93.217053 214.756154 \nL 95.774731 214.756071 \nL 98.332409 214.756322 \nL 100.890086 214.755932 \nL 103.447764 214.756293 \nL 106.005441 214.75598 \nL 108.563119 214.755931 \nL 111.120797 214.75626 \nL 113.678474 214.755679 \nL 116.236152 214.756304 \nL 118.793829 214.755748 \nL 121.351507 214.755824 \nL 123.909185 214.756157 \nL 126.466862 214.755434 \nL 129.02454 214.756329 \nL 131.582218 214.755533 \nL 134.139895 214.755804 \nL 136.697573 214.756034 \nL 139.25525 214.755347 \nL 141.812928 214.75635 \nL 144.370606 214.755445 \nL 146.928283 214.755914 \nL 149.485961 214.755971 \nL 152.043639 214.7555 \nL 154.601316 214.756355 \nL 157.158994 214.755621 \nL 159.716671 214.756109 \nL 162.274349 214.756026 \nL 164.832027 214.75586 \nL 167.389704 214.756347 \nL 169.947382 214.755992 \nL 172.505059 214.756282 \nL 175.062737 214.756201 \nL 177.620415 214.756226 \nL 180.178092 214.756349 \nL 182.73577 214.756306 \nL 185.293448 214.756358 \nL 187.851125 214.756349 \nL 190.408803 214.756363 \nL 192.96648 214.756362 \nL 195.524158 214.756324 \nL 198.081836 214.756352 \nL 200.639513 214.756302 \nL 203.197191 214.756259 \nL 205.754868 214.756348 \nL 208.312546 214.756031 \nL 210.870224 214.756332 \nL 213.427901 214.756052 \nL 215.985579 214.756073 \nL 218.543257 214.756278 \nL 221.100934 214.755683 \nL 223.658612 214.75633 \nL 226.216289 214.755753 \nL 228.773967 214.755998 \nL 231.331645 214.75618 \nL 233.889322 214.755497 \nL 236.447 214.75634 \nL 239.004677 214.755605 \nL 241.562355 214.756046 \nL 244.120033 214.756109 \nL 246.67771 214.755567 \nL 249.235388 214.756345 \nL 251.793066 214.755632 \nL 254.350743 214.756158 \nL 256.908421 214.756103 \nL 259.466098 214.755777 \nL 262.023776 214.756341 \nL 264.581454 214.755787 \nL 267.139131 214.75626 \nL 269.696809 214.756147 \nL 272.254486 214.756002 \nL 274.812164 214.756339 \nL 277.369842 214.755975 \nL 279.927519 214.756321 \nL 282.485197 214.756209 \nL 285.042875 214.756176 \nL 287.600552 214.756343 \nL 290.15823 214.756131 \nL 292.715907 214.756349 \nL 295.273585 214.756267 \nL 297.831263 214.75628 \nL 300.38894 214.75635 \nL 302.946618 214.756238 \nL 305.504296 214.756358 \nL 308.061973 214.756308 \nL 310.619651 214.756333 \nL 313.177328 214.756356 \nL 315.735006 214.756303 \nL 318.292684 214.756361 \nL 320.850361 214.756333 \nL 323.408039 214.756355 \nL 325.965716 214.756361 \nL 328.523394 214.756337 \nL 331.081072 214.756361 \nL 333.638749 214.756347 \nL 336.196427 214.756362 \nL 338.754105 214.756363 \nL 341.311782 214.756353 \nL 343.86946 214.756362 \nL 346.427137 214.756355 \nL 348.984815 214.756364 \nL 351.542493 214.756363 \nL 354.10017 214.75636 \nL 356.657848 214.756362 \nL 359.215525 214.756358 \nL 361.773203 214.756363 \nL 364.330881 214.756363 \n\" clip-path=\"url(#pcf229fb567)\" style=\"fill: none; stroke: #333795; stroke-width: 1.5; stroke-linecap: square\"/>\n   </g>\n   <g id=\"line2d_16\">\n    <path d=\"M 59.967244 214.756364 \nL 62.524922 214.756364 \nL 65.0826 214.756364 \nL 67.640277 214.756364 \nL 70.197955 214.756364 \nL 72.755632 214.756364 \nL 75.31331 214.756364 \nL 77.870988 214.756364 \nL 80.428665 214.756364 \nL 82.986343 214.756364 \nL 85.54402 214.756364 \nL 88.101698 214.756364 \nL 90.659376 214.756364 \nL 93.217053 214.756364 \nL 95.774731 214.756364 \nL 98.332409 214.756364 \nL 100.890086 214.756364 \nL 103.447764 214.756364 \nL 106.005441 214.756364 \nL 108.563119 214.756364 \nL 111.120797 214.756364 \nL 113.678474 214.756364 \nL 116.236152 214.756364 \nL 118.793829 214.756364 \nL 121.351507 214.756364 \nL 123.909185 214.756364 \nL 126.466862 214.756364 \nL 129.02454 214.756364 \nL 131.582218 214.756364 \nL 134.139895 214.756364 \nL 136.697573 214.756364 \nL 139.25525 214.756364 \nL 141.812928 214.756364 \nL 144.370606 214.756364 \nL 146.928283 214.756364 \nL 149.485961 214.756364 \nL 152.043639 214.756364 \nL 154.601316 214.756364 \nL 157.158994 214.756364 \nL 159.716671 214.756364 \nL 162.274349 214.756364 \nL 164.832027 214.756364 \nL 167.389704 214.756364 \nL 169.947382 214.756364 \nL 172.505059 214.756364 \nL 175.062737 214.756364 \nL 177.620415 214.756364 \nL 180.178092 214.756364 \nL 182.73577 214.756364 \nL 185.293448 214.756364 \nL 187.851125 214.756364 \nL 190.408803 214.756364 \nL 192.96648 214.756364 \nL 195.524158 214.756364 \nL 198.081836 214.756364 \nL 200.639513 214.756364 \nL 203.197191 214.756364 \nL 205.754868 214.756364 \nL 208.312546 214.756364 \nL 210.870224 214.756364 \nL 213.427901 214.756364 \nL 215.985579 214.756364 \nL 218.543257 214.756364 \nL 221.100934 214.756364 \nL 223.658612 214.756364 \nL 226.216289 214.756364 \nL 228.773967 214.756364 \nL 231.331645 214.756364 \nL 233.889322 214.756364 \nL 236.447 214.756364 \nL 239.004677 214.756364 \nL 241.562355 214.756364 \nL 244.120033 214.756364 \nL 246.67771 214.756364 \nL 249.235388 214.756364 \nL 251.793066 214.756364 \nL 254.350743 214.756364 \nL 256.908421 214.756364 \nL 259.466098 214.756364 \nL 262.023776 214.756364 \nL 264.581454 214.756364 \nL 267.139131 214.756364 \nL 269.696809 214.756364 \nL 272.254486 214.756364 \nL 274.812164 214.756364 \nL 277.369842 214.756364 \nL 279.927519 214.756364 \nL 282.485197 214.756364 \nL 285.042875 214.756364 \nL 287.600552 214.756364 \nL 290.15823 214.756364 \nL 292.715907 214.756364 \nL 295.273585 214.756364 \nL 297.831263 214.756364 \nL 300.38894 214.756364 \nL 302.946618 214.756364 \nL 305.504296 214.756364 \nL 308.061973 214.756364 \nL 310.619651 214.756364 \nL 313.177328 214.756364 \nL 315.735006 214.756364 \nL 318.292684 214.756364 \nL 320.850361 214.756364 \nL 323.408039 214.756364 \nL 325.965716 214.756364 \nL 328.523394 214.756364 \nL 331.081072 214.756364 \nL 333.638749 214.756364 \nL 336.196427 214.756364 \nL 338.754105 214.756364 \nL 341.311782 214.756364 \nL 343.86946 214.756364 \nL 346.427137 214.756364 \nL 348.984815 214.756364 \nL 351.542493 214.756364 \nL 354.10017 214.756364 \nL 356.657848 214.756364 \nL 359.215525 214.756364 \nL 361.773203 214.756364 \nL 364.330881 214.756364 \n\" clip-path=\"url(#pcf229fb567)\" style=\"fill: none; stroke: #2e5eac; stroke-width: 1.5; stroke-linecap: square\"/>\n   </g>\n   <g id=\"line2d_17\">\n    <path d=\"M 59.967244 17.083636 \nL 62.524922 17.316549 \nL 65.0826 17.57747 \nL 67.640277 17.366757 \nL 70.197955 17.341394 \nL 72.755632 17.915181 \nL 75.31331 18.197843 \nL 77.870988 18.061598 \nL 80.428665 18.459839 \nL 82.986343 19.469975 \nL 85.54402 19.921154 \nL 88.101698 20.049812 \nL 90.659376 21.286583 \nL 93.217053 22.770129 \nL 95.774731 23.482382 \nL 98.332409 24.445262 \nL 100.890086 26.689643 \nL 103.447764 28.99363 \nL 106.005441 30.219251 \nL 108.563119 32.615195 \nL 111.120797 36.268571 \nL 113.678474 39.159036 \nL 116.236152 41.83312 \nL 118.793829 45.893137 \nL 121.351507 51.169226 \nL 123.909185 55.119252 \nL 126.466862 59.460713 \nL 129.02454 65.985455 \nL 131.582218 72.07269 \nL 134.139895 77.679376 \nL 136.697573 84.119367 \nL 139.25525 92.209447 \nL 141.812928 99.648833 \nL 144.370606 106.285604 \nL 146.928283 114.994918 \nL 149.485961 123.543952 \nL 152.043639 131.402383 \nL 154.601316 139.452464 \nL 157.158994 148.118112 \nL 159.716671 156.769143 \nL 162.274349 164.042027 \nL 164.832027 171.928024 \nL 167.389704 179.559711 \nL 169.947382 186.212425 \nL 172.505059 192.445707 \nL 175.062737 197.961839 \nL 177.620415 203.126944 \nL 180.178092 207.119038 \nL 182.73577 210.293654 \nL 185.293448 212.757725 \nL 187.851125 214.200823 \nL 190.408803 214.711316 \nL 192.96648 214.336453 \nL 195.524158 212.972003 \nL 198.081836 210.620308 \nL 200.639513 207.687623 \nL 203.197191 203.799244 \nL 205.754868 199.043918 \nL 208.312546 193.477653 \nL 210.870224 187.978815 \nL 213.427901 181.597406 \nL 215.985579 173.933651 \nL 218.543257 167.165247 \nL 221.100934 160.036773 \nL 223.658612 151.960979 \nL 226.216289 143.720715 \nL 228.773967 136.523863 \nL 231.331645 129.348257 \nL 233.889322 120.492309 \nL 236.447 113.213383 \nL 239.004677 106.941302 \nL 241.562355 99.542168 \nL 244.120033 92.184644 \nL 246.67771 86.230014 \nL 249.235388 81.17419 \nL 251.793066 74.619076 \nL 254.350743 68.805831 \nL 256.908421 64.95375 \nL 259.466098 60.422315 \nL 262.023776 55.448164 \nL 264.581454 51.569932 \nL 267.139131 48.91756 \nL 269.696809 45.496878 \nL 272.254486 41.727313 \nL 274.812164 39.608004 \nL 277.369842 37.697619 \nL 279.927519 35.050534 \nL 282.485197 32.785509 \nL 285.042875 31.562868 \nL 287.600552 30.296779 \nL 290.15823 28.336387 \nL 292.715907 27.066891 \nL 295.273585 26.472935 \nL 297.831263 25.431588 \nL 300.38894 24.213092 \nL 302.946618 23.578217 \nL 305.504296 23.257769 \nL 308.061973 22.488164 \nL 310.619651 21.719791 \nL 313.177328 21.491721 \nL 315.735006 21.236143 \nL 318.292684 20.684471 \nL 320.850361 20.291603 \nL 323.408039 20.215575 \nL 325.965716 20.019105 \nL 328.523394 19.628316 \nL 331.081072 19.455082 \nL 333.638749 19.433696 \nL 336.196427 19.253508 \nL 338.754105 19.0245 \nL 341.311782 18.964848 \nL 343.86946 18.949864 \nL 346.427137 18.803819 \nL 348.984815 18.673815 \nL 351.542493 18.668042 \nL 354.10017 18.638469 \nL 356.657848 18.534956 \nL 359.215525 18.476607 \nL 361.773203 18.482751 \nL 364.330881 18.449738 \n\" clip-path=\"url(#pcf229fb567)\" style=\"fill: none; stroke: #4498d3; stroke-width: 1.5; stroke-linecap: square\"/>\n   </g>\n   <g id=\"line2d_18\">\n    <path d=\"M 59.967244 214.756364 \nL 62.524922 214.74583 \nL 65.0826 214.709164 \nL 67.640277 214.644824 \nL 70.197955 214.537386 \nL 72.755632 214.388107 \nL 75.31331 214.183788 \nL 77.870988 213.909116 \nL 80.428665 213.571502 \nL 82.986343 213.117061 \nL 85.54402 212.588921 \nL 88.101698 211.934242 \nL 90.659376 211.115363 \nL 93.217053 210.179282 \nL 95.774731 209.033693 \nL 98.332409 207.753638 \nL 100.890086 206.163674 \nL 103.447764 204.350375 \nL 106.005441 202.410563 \nL 108.563119 199.993959 \nL 111.120797 197.328773 \nL 113.678474 194.335097 \nL 116.236152 191.109686 \nL 118.793829 187.368655 \nL 121.351507 182.983223 \nL 123.909185 178.793889 \nL 126.466862 173.885029 \nL 129.02454 168.259002 \nL 131.582218 162.477021 \nL 134.139895 156.590937 \nL 136.697573 150.180278 \nL 139.25525 142.439956 \nL 141.812928 135.582142 \nL 144.370606 128.595189 \nL 146.928283 119.992483 \nL 149.485961 111.710297 \nL 152.043639 104.205028 \nL 154.601316 96.537318 \nL 157.158994 86.940778 \nL 159.716671 79.040471 \nL 162.274349 72.718512 \nL 164.832027 63.919324 \nL 167.389704 55.907594 \nL 169.947382 50.230909 \nL 172.505059 44.957217 \nL 175.062737 37.654362 \nL 177.620415 32.52468 \nL 180.178092 30.807861 \nL 182.73577 26.284437 \nL 185.293448 22.625744 \nL 187.851125 22.47629 \nL 190.408803 22.887723 \nL 192.96648 21.742245 \nL 195.524158 22.386418 \nL 198.081836 26.912886 \nL 200.639513 29.076978 \nL 203.197191 31.495149 \nL 205.754868 37.205415 \nL 208.312546 43.118346 \nL 210.870224 48.05725 \nL 213.427901 53.653325 \nL 215.985579 61.970459 \nL 218.543257 68.876649 \nL 221.100934 75.143498 \nL 223.658612 83.342825 \nL 226.216289 91.311389 \nL 228.773967 98.705299 \nL 231.331645 105.738678 \nL 233.889322 113.792469 \nL 236.447 121.311344 \nL 239.004677 127.762424 \nL 241.562355 134.82613 \nL 244.120033 141.424676 \nL 246.67771 147.644504 \nL 249.235388 153.309167 \nL 251.793066 158.807076 \nL 254.350743 164.202459 \nL 256.908421 168.756682 \nL 259.466098 173.247496 \nL 262.023776 177.33363 \nL 264.581454 181.077736 \nL 267.139131 184.560544 \nL 269.696809 187.564967 \nL 272.254486 190.490312 \nL 274.812164 193.024749 \nL 277.369842 195.33289 \nL 279.927519 197.425656 \nL 282.485197 199.235114 \nL 285.042875 200.974355 \nL 287.600552 202.422586 \nL 290.15823 203.734994 \nL 292.715907 204.930289 \nL 295.273585 205.963242 \nL 297.831263 206.906702 \nL 300.38894 207.688052 \nL 302.946618 208.430271 \nL 305.504296 209.079617 \nL 308.061973 209.617665 \nL 310.619651 210.121877 \nL 313.177328 210.554579 \nL 315.735006 210.947047 \nL 318.292684 211.275187 \nL 320.850361 211.566971 \nL 323.408039 211.842876 \nL 325.965716 212.063845 \nL 328.523394 212.265145 \nL 331.081072 212.444282 \nL 333.638749 212.602735 \nL 336.196427 212.741587 \nL 338.754105 212.856953 \nL 341.311782 212.969636 \nL 343.86946 213.064248 \nL 346.427137 213.144545 \nL 348.984815 213.219183 \nL 351.542493 213.283925 \nL 354.10017 213.342661 \nL 356.657848 213.390718 \nL 359.215525 213.435607 \nL 361.773203 213.476748 \nL 364.330881 213.509774 \n\" clip-path=\"url(#pcf229fb567)\" style=\"fill: none; stroke: #cd85b9; stroke-width: 1.5; stroke-linecap: square\"/>\n   </g>\n   <g id=\"patch_3\">\n    <path d=\"M 44.749063 224.64 \nL 44.749063 7.2 \n\" style=\"fill: none; stroke: #000000; stroke-width: 0.8; stroke-linejoin: miter; stroke-linecap: square\"/>\n   </g>\n   <g id=\"patch_4\">\n    <path d=\"M 379.549062 224.64 \nL 379.549062 7.2 \n\" style=\"fill: none; stroke: #000000; stroke-width: 0.8; stroke-linejoin: miter; stroke-linecap: square\"/>\n   </g>\n   <g id=\"patch_5\">\n    <path d=\"M 44.749063 224.64 \nL 379.549062 224.64 \n\" style=\"fill: none; stroke: #000000; stroke-width: 0.8; stroke-linejoin: miter; stroke-linecap: square\"/>\n   </g>\n   <g id=\"patch_6\">\n    <path d=\"M 44.749063 7.2 \nL 379.549062 7.2 \n\" style=\"fill: none; stroke: #000000; stroke-width: 0.8; stroke-linejoin: miter; stroke-linecap: square\"/>\n   </g>\n   <g id=\"legend_1\">\n    <g id=\"patch_7\">\n     <path d=\"M 321.579062 159.095 \nL 371.849062 159.095 \nQ 374.049062 159.095 374.049062 156.895 \nL 374.049062 74.945 \nQ 374.049062 72.745 371.849062 72.745 \nL 321.579062 72.745 \nQ 319.379062 72.745 319.379062 74.945 \nL 319.379062 156.895 \nQ 319.379062 159.095 321.579062 159.095 \nz\n\" style=\"fill: #ffffff; opacity: 0.8; stroke: #cccccc; stroke-linejoin: miter\"/>\n    </g>\n    <g id=\"line2d_19\">\n     <path d=\"M 323.779062 81.765 \nL 334.779062 81.765 \nL 345.779062 81.765 \n\" style=\"fill: none; stroke: #016e82; stroke-width: 1.5; stroke-linecap: square\"/>\n    </g>\n    <g id=\"text_16\">\n     <!-- $|0\\rangle$ -->\n     <g transform=\"translate(354.579062 85.615)scale(0.11 -0.11)\">\n      <defs>\n       <path id=\"DejaVuSans-7c\" d=\"M 1344 4891 \nL 1344 -1509 \nL 813 -1509 \nL 813 4891 \nL 1344 4891 \nz\n\" transform=\"scale(0.015625)\"/>\n       <path id=\"DejaVuSans-27e9\" d=\"M 1925 2006 \nL 1044 -844 \nL 513 -844 \nL 1394 2006 \nL 513 4856 \nL 1044 4856 \nL 1925 2006 \nz\n\" transform=\"scale(0.015625)\"/>\n      </defs>\n      <use xlink:href=\"#DejaVuSans-7c\" transform=\"translate(0 0.578125)\"/>\n      <use xlink:href=\"#DejaVuSans-30\" transform=\"translate(33.691406 0.578125)\"/>\n      <use xlink:href=\"#DejaVuSans-27e9\" transform=\"translate(97.314453 0.578125)\"/>\n     </g>\n    </g>\n    <g id=\"line2d_20\">\n     <path d=\"M 323.779062 98.375 \nL 334.779062 98.375 \nL 345.779062 98.375 \n\" style=\"fill: none; stroke: #333795; stroke-width: 1.5; stroke-linecap: square\"/>\n    </g>\n    <g id=\"text_17\">\n     <!-- $|1\\rangle$ -->\n     <g transform=\"translate(354.579062 102.225)scale(0.11 -0.11)\">\n      <use xlink:href=\"#DejaVuSans-7c\" transform=\"translate(0 0.578125)\"/>\n      <use xlink:href=\"#DejaVuSans-31\" transform=\"translate(33.691406 0.578125)\"/>\n      <use xlink:href=\"#DejaVuSans-27e9\" transform=\"translate(97.314453 0.578125)\"/>\n     </g>\n    </g>\n    <g id=\"line2d_21\">\n     <path d=\"M 323.779062 114.985 \nL 334.779062 114.985 \nL 345.779062 114.985 \n\" style=\"fill: none; stroke: #2e5eac; stroke-width: 1.5; stroke-linecap: square\"/>\n    </g>\n    <g id=\"text_18\">\n     <!-- $|2\\rangle$ -->\n     <g transform=\"translate(354.579062 118.835)scale(0.11 -0.11)\">\n      <use xlink:href=\"#DejaVuSans-7c\" transform=\"translate(0 0.578125)\"/>\n      <use xlink:href=\"#DejaVuSans-32\" transform=\"translate(33.691406 0.578125)\"/>\n      <use xlink:href=\"#DejaVuSans-27e9\" transform=\"translate(97.314453 0.578125)\"/>\n     </g>\n    </g>\n    <g id=\"line2d_22\">\n     <path d=\"M 323.779062 131.595 \nL 334.779062 131.595 \nL 345.779062 131.595 \n\" style=\"fill: none; stroke: #4498d3; stroke-width: 1.5; stroke-linecap: square\"/>\n    </g>\n    <g id=\"text_19\">\n     <!-- $|3\\rangle$ -->\n     <g transform=\"translate(354.579062 135.445)scale(0.11 -0.11)\">\n      <defs>\n       <path id=\"DejaVuSans-33\" d=\"M 2597 2516 \nQ 3050 2419 3304 2112 \nQ 3559 1806 3559 1356 \nQ 3559 666 3084 287 \nQ 2609 -91 1734 -91 \nQ 1441 -91 1130 -33 \nQ 819 25 488 141 \nL 488 750 \nQ 750 597 1062 519 \nQ 1375 441 1716 441 \nQ 2309 441 2620 675 \nQ 2931 909 2931 1356 \nQ 2931 1769 2642 2001 \nQ 2353 2234 1838 2234 \nL 1294 2234 \nL 1294 2753 \nL 1863 2753 \nQ 2328 2753 2575 2939 \nQ 2822 3125 2822 3475 \nQ 2822 3834 2567 4026 \nQ 2313 4219 1838 4219 \nQ 1578 4219 1281 4162 \nQ 984 4106 628 3988 \nL 628 4550 \nQ 988 4650 1302 4700 \nQ 1616 4750 1894 4750 \nQ 2613 4750 3031 4423 \nQ 3450 4097 3450 3541 \nQ 3450 3153 3228 2886 \nQ 3006 2619 2597 2516 \nz\n\" transform=\"scale(0.015625)\"/>\n      </defs>\n      <use xlink:href=\"#DejaVuSans-7c\" transform=\"translate(0 0.578125)\"/>\n      <use xlink:href=\"#DejaVuSans-33\" transform=\"translate(33.691406 0.578125)\"/>\n      <use xlink:href=\"#DejaVuSans-27e9\" transform=\"translate(97.314453 0.578125)\"/>\n     </g>\n    </g>\n    <g id=\"line2d_23\">\n     <path d=\"M 323.779062 148.205 \nL 334.779062 148.205 \nL 345.779062 148.205 \n\" style=\"fill: none; stroke: #cd85b9; stroke-width: 1.5; stroke-linecap: square\"/>\n    </g>\n    <g id=\"text_20\">\n     <!-- $|6\\rangle$ -->\n     <g transform=\"translate(354.579062 152.055)scale(0.11 -0.11)\">\n      <use xlink:href=\"#DejaVuSans-7c\" transform=\"translate(0 0.578125)\"/>\n      <use xlink:href=\"#DejaVuSans-36\" transform=\"translate(33.691406 0.578125)\"/>\n      <use xlink:href=\"#DejaVuSans-27e9\" transform=\"translate(97.314453 0.578125)\"/>\n     </g>\n    </g>\n   </g>\n  </g>\n </g>\n <defs>\n  <clipPath id=\"pcf229fb567\">\n   <rect x=\"44.749063\" y=\"7.2\" width=\"334.8\" height=\"217.44\"/>\n  </clipPath>\n </defs>\n</svg>\n",
      "text/plain": [
       "<Figure size 432x288 with 1 Axes>"
      ]
     },
     "metadata": {
      "needs_background": "light"
     },
     "output_type": "display_data"
    }
   ],
   "source": [
    "tlist = np.linspace(0, 120, 120) #total time\n",
    "\n",
    "#This simulation is just for viewing the affect of the pulse\n",
    "result = qt.sesolve(H_qbt_drive, qt.basis(20,3), tlist, e_ops = [state*state.dag() for state in states])\n",
    "\n",
    "for idx,res in zip(idxs, result.expect):\n",
    "    plt.plot(tlist, res, label = r\"$|%u\\rangle$\"%(idx))\n",
    "plt.legend()\n",
    "plt.ylabel(\"population\")\n",
    "plt.xlabel(\"t (ns)\")"
   ]
  },
  {
   "cell_type": "markdown",
   "metadata": {},
   "source": [
    "## Propagator calculation"
   ]
  },
  {
   "cell_type": "code",
   "execution_count": 9,
   "metadata": {},
   "outputs": [],
   "source": [
    "prop = qt.propagator(H_qbt_drive, tlist)[-1] #get the propagator at the final time step\n",
    "#truncate the propagator to the computational subspace\n",
    "Uc = qt.Qobj([[prop.matrix_element(s1, s2) for s1 in computational_subspace] for s2 in computational_subspace])"
   ]
  },
  {
   "cell_type": "code",
   "execution_count": 10,
   "metadata": {},
   "outputs": [],
   "source": [
    "#Factor global phase so that upper-left corner of matrix is unity\n",
    "def remove_global_phase(op):\n",
    "    return op*np.exp(-1j * cmath.phase(op[0, 0]))\n",
    "\n",
    "#The process for obtaining the Z rotations is taken from page 3 of Nesterov et al., at the \n",
    "# bottom of the paragraph beginning, \"To model gate operation...\"\n",
    "def dphi(state):\n",
    "    return -np.angle(prop.matrix_element(state, state))+np.angle(prop.matrix_element(states[0],states[0]))"
   ]
  },
  {
   "cell_type": "code",
   "execution_count": 11,
   "metadata": {},
   "outputs": [],
   "source": [
    "#product of single-qubit Z-gates\n",
    "Uz = remove_global_phase(qt.tensor(rz(dphi(states[2])), rz(dphi(states[1]))))"
   ]
  },
  {
   "cell_type": "code",
   "execution_count": 12,
   "metadata": {},
   "outputs": [
    {
     "data": {
      "text/latex": [
       "Quantum object: dims = [[2, 2], [2, 2]], shape = (4, 4), type = oper, isherm = False\\begin{equation*}\\left(\\begin{array}{*{11}c}1.000 & (6.602\\times10^{-07}-4.857\\times10^{-07}j) & (-3.749\\times10^{-05}+1.095\\times10^{-04}j) & (-1.624\\times10^{-07}+1.178\\times10^{-07}j)\\\\(-6.592\\times10^{-07}-4.864\\times10^{-07}j) & 0.999 & (2.149\\times10^{-06}+1.603\\times10^{-07}j) & (-4.717\\times10^{-05}-2.635\\times10^{-05}j)\\\\(3.747\\times10^{-05}+1.097\\times10^{-04}j) & (-7.646\\times10^{-07}-1.991\\times10^{-08}j) & 1.000 & (4.131\\times10^{-07}+2.595\\times10^{-07}j)\\\\(-5.413\\times10^{-08}+1.093\\times10^{-08}j) & (-4.430\\times10^{-05}+3.138\\times10^{-05}j) & (3.827\\times10^{-07}-3.008\\times10^{-07}j) & (-0.991+0.102j)\\\\\\end{array}\\right)\\end{equation*}"
      ],
      "text/plain": [
       "Quantum object: dims = [[2, 2], [2, 2]], shape = (4, 4), type = oper, isherm = False\n",
       "Qobj data =\n",
       "[[ 9.99998953e-01+0.00000000e+00j  6.60214761e-07-4.85668829e-07j\n",
       "  -3.74851599e-05+1.09516659e-04j -1.62370876e-07+1.17795274e-07j]\n",
       " [-6.59188748e-07-4.86431882e-07j  9.98501126e-01+0.00000000e+00j\n",
       "   2.14944815e-06+1.60303345e-07j -4.71696397e-05-2.63541740e-05j]\n",
       " [ 3.74714879e-05+1.09678874e-04j -7.64614975e-07-1.99075342e-08j\n",
       "   9.99642996e-01+0.00000000e+00j  4.13136855e-07+2.59521361e-07j]\n",
       " [-5.41296074e-08+1.09340139e-08j -4.42953270e-05+3.13834851e-05j\n",
       "   3.82727482e-07-3.00812931e-07j -9.91317236e-01+1.01837053e-01j]]"
      ]
     },
     "execution_count": 12,
     "metadata": {},
     "output_type": "execute_result"
    }
   ],
   "source": [
    "Uc_reshaped = qt.Qobj(Uc.data, dims = [[2,2],[2,2]])\n",
    "Ucprime = remove_global_phase(Uz*Uc_reshaped)\n",
    "Ucprime"
   ]
  },
  {
   "cell_type": "code",
   "execution_count": 13,
   "metadata": {},
   "outputs": [
    {
     "data": {
      "text/plain": [
       "0.9957766777001309"
      ]
     },
     "execution_count": 13,
     "metadata": {},
     "output_type": "execute_result"
    }
   ],
   "source": [
    "#fidelity measure given on page 3 of Nesterov et al.\n",
    "((Ucprime.dag()*Ucprime).tr() + np.abs((Ucprime.dag()*cz_gate()).tr())**2)/20"
   ]
  }
 ],
 "metadata": {
  "kernelspec": {
   "display_name": "qiskit_env",
   "language": "python",
   "name": "python3"
  },
  "language_info": {
   "codemirror_mode": {
    "name": "ipython",
    "version": 3
   },
   "file_extension": ".py",
   "mimetype": "text/x-python",
   "name": "python",
   "nbconvert_exporter": "python",
   "pygments_lexer": "ipython3",
   "version": "3.10.4"
  },
  "vscode": {
   "interpreter": {
    "hash": "d4803144e0ca2433cbbdbc82809c7bf0c6dd86d5d16291a48205e2d911513c87"
   }
  }
 },
 "nbformat": 4,
 "nbformat_minor": 2
}
