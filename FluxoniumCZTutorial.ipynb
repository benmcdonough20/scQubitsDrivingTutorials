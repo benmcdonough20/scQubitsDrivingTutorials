{
 "cells": [
  {
   "cell_type": "code",
   "execution_count": 1443,
   "metadata": {},
   "outputs": [],
   "source": [
    "import scqubits as scq\n",
    "import qutip as qt\n",
    "import numpy as np\n",
    "from matplotlib import pyplot as plt\n",
    "from itertools import product\n",
    "from qutip.qip.operations import rz, cz_gate\n",
    "\n",
    "#experimental values borrowed from \n",
    "# https://journals.aps.org/prx/pdf/10.1103/PhysRevX.11.011010\n",
    "qbta = scq.Fluxonium(\n",
    "    EC = 1.5,\n",
    "    EJ = 5.5,\n",
    "    EL = 1.0,\n",
    "    flux = .5, #flux frustration point\n",
    "    cutoff = 110,\n",
    "    truncated_dim = 10\n",
    ")\n",
    "\n",
    "qbtb = scq.Fluxonium(\n",
    "    EC = 1.2,\n",
    "    EJ = 5.7,\n",
    "    EL = 1.0,\n",
    "    flux = .5,\n",
    "    cutoff = 110,\n",
    "    truncated_dim = 10\n",
    ")\n",
    "\n",
    "hilbertspace = scq.HilbertSpace([qbta, qbtb])\n",
    "\n",
    "hilbertspace.add_interaction(\n",
    "    g_strength = .15,\n",
    "    op1 = qbta.n_operator,\n",
    "    op2 = qbtb.n_operator,\n",
    "    add_hc = True\n",
    ")\n",
    "\n",
    "hilbertspace.generate_lookup()"
   ]
  },
  {
   "attachments": {},
   "cell_type": "markdown",
   "metadata": {},
   "source": [
    "## Drive simulation functions\n",
    "These functions are taken from the previous tutorial, \"Driven composite systems and interface with QuTiP.\""
   ]
  },
  {
   "cell_type": "code",
   "execution_count": 1444,
   "metadata": {},
   "outputs": [],
   "source": [
    "#get the index of a dressed state closed to a subsystem product state\n",
    "def dressed_index(hilbertspace, *states):\n",
    "    states_by_index = list(sorted([(hilbertspace.get_subsys_index(sys), state) for (sys, state) in states]))\n",
    "    return hilbertspace.dressed_index(list(zip(*states_by_index))[1])[0]\n",
    "\n",
    "#wrap operator in identities and change to dressed eigenbasis\n",
    "def basis_change(operator, subsystem, hilbertspace, dressed_eigenbasis = True):\n",
    "    bare_evecs, = hilbertspace.bare_eigenstates(subsystem)\n",
    "    op_id_wrap = scq.identity_wrap(operator, subsystem, hilbertspace.subsys_list, evecs = bare_evecs)\n",
    "    evecs, = hilbertspace[\"evecs\"]\n",
    "    return op_id_wrap.transform(evecs)\n",
    "\n",
    "total_truncation = 20 #set simulation truncation level\n",
    "\n",
    "#truncate operators to desdired dimension\n",
    "def truncate(operator):\n",
    "    return qt.Qobj(operator[:total_truncation, : total_truncation])\n",
    "\n",
    "#get the transition frequency between two states specified by dressed indices\n",
    "def transition_frequency(s0, s1):\n",
    "    return hilbertspace.energy_by_dressed_index(s1)-hilbertspace.energy_by_dressed_index(s0)"
   ]
  },
  {
   "cell_type": "markdown",
   "metadata": {},
   "source": [
    "## Drive operators\n",
    "Get the matrix representations of the drive operators in the dressed eigenbasis"
   ]
  },
  {
   "cell_type": "code",
   "execution_count": 1392,
   "metadata": {},
   "outputs": [],
   "source": [
    "#resonator drive operator\n",
    "n_b = basis_change(qbtb.n_operator(), qbta, hilbertspace)\n",
    "n_b = truncate(n_b) "
   ]
  },
  {
   "cell_type": "code",
   "execution_count": 1393,
   "metadata": {},
   "outputs": [],
   "source": [
    "product_states = [(0,0),(0,1),(1,0),(1,1),(1,2)]\n",
    "idxs = [dressed_index(hilbertspace, (qbta, s1),(qbtb, s2)) for (s1,s2) in product_states]\n",
    "states = [qt.basis(total_truncation, idx) for idx in idxs]\n",
    "\n",
    "computational_subspace = states[:4]"
   ]
  },
  {
   "cell_type": "code",
   "execution_count": 1411,
   "metadata": {},
   "outputs": [],
   "source": [
    "#g0 -> h0 transition\n",
    "w1112 = transition_frequency(idxs[3], idxs[4])\n",
    "#h0 -> e1 transition\n",
    "\n",
    "#Gaussian pulse\n",
    "A = .014\n",
    "tg = 500\n",
    "def drive_coeff(t, args):\n",
    "    return A*np.exp(-8*t*(t-tg)/tg**2)*np.cos(w1112*t)\n",
    "\n",
    "evals, = hilbertspace[\"evals\"]\n",
    "diag_dressed_hamiltonian = qt.Qobj(np.diag(evals), dims = [hilbertspace.subsystem_dims]*2)\n",
    "diag_dressed_hamiltonian_trunc = truncate(diag_dressed_hamiltonian)\n",
    "\n",
    "H_qbt_drive = [\n",
    "    diag_dressed_hamiltonian_trunc,\n",
    "    [n_b, drive_coeff] #driving through the resonator\n",
    "]"
   ]
  },
  {
   "cell_type": "markdown",
   "metadata": {},
   "source": [
    "## Simulation"
   ]
  },
  {
   "cell_type": "code",
   "execution_count": 1422,
   "metadata": {},
   "outputs": [],
   "source": [
    "tlist = np.linspace(0, 600, 600) #total time"
   ]
  },
  {
   "cell_type": "code",
   "execution_count": 1423,
   "metadata": {},
   "outputs": [],
   "source": [
    "result = qt.sesolve(H_qbt_drive, qt.basis(20,3), tlist, e_ops = [state*state.dag() for state in states])"
   ]
  },
  {
   "cell_type": "code",
   "execution_count": 1425,
   "metadata": {},
   "outputs": [
    {
     "data": {
      "application/pdf": "[encoded data removed]",
      "image/svg+xml": "<?xml version=\"1.0\" encoding=\"utf-8\" standalone=\"no\"?>\n<!DOCTYPE svg PUBLIC \"-//W3C//DTD SVG 1.1//EN\"\n  \"http://www.w3.org/Graphics/SVG/1.1/DTD/svg11.dtd\">\n<svg xmlns:xlink=\"http://www.w3.org/1999/xlink\" width=\"394.423125pt\" height=\"297.190125pt\" viewBox=\"0 0 394.423125 297.190125\" xmlns=\"http://www.w3.org/2000/svg\" version=\"1.1\">\n <metadata>\n  <rdf:RDF xmlns:dc=\"http://purl.org/dc/elements/1.1/\" xmlns:cc=\"http://creativecommons.org/ns#\" xmlns:rdf=\"http://www.w3.org/1999/02/22-rdf-syntax-ns#\">\n   <cc:Work>\n    <dc:type rdf:resource=\"http://purl.org/dc/dcmitype/StillImage\"/>\n    <dc:date>2023-01-09T02:36:45.486148</dc:date>\n    <dc:format>image/svg+xml</dc:format>\n    <dc:creator>\n     <cc:Agent>\n      <dc:title>Matplotlib v3.5.1, https://matplotlib.org/</dc:title>\n     </cc:Agent>\n    </dc:creator>\n   </cc:Work>\n  </rdf:RDF>\n </metadata>\n <defs>\n  <style type=\"text/css\">*{stroke-linejoin: round; stroke-linecap: butt}</style>\n </defs>\n <g id=\"figure_1\">\n  <g id=\"patch_1\">\n   <path d=\"M 0 297.190125 \nL 394.423125 297.190125 \nL 394.423125 0 \nL 0 0 \nz\n\" style=\"fill: #ffffff\"/>\n  </g>\n  <g id=\"axes_1\">\n   <g id=\"patch_2\">\n    <path d=\"M 30.103125 273.312 \nL 387.223125 273.312 \nL 387.223125 7.2 \nL 30.103125 7.2 \nz\n\" style=\"fill: #ffffff\"/>\n   </g>\n   <g id=\"matplotlib.axis_1\">\n    <g id=\"xtick_1\">\n     <g id=\"line2d_1\">\n      <defs>\n       <path id=\"mb8f03fca39\" d=\"M 0 0 \nL 0 3.5 \n\" style=\"stroke: #000000; stroke-width: 0.8\"/>\n      </defs>\n      <g>\n       <use xlink:href=\"#mb8f03fca39\" x=\"46.335852\" y=\"273.312\" style=\"stroke: #000000; stroke-width: 0.8\"/>\n      </g>\n     </g>\n     <g id=\"text_1\">\n      <!-- 0 -->\n      <g transform=\"translate(43.154602 287.910437)scale(0.1 -0.1)\">\n       <defs>\n        <path id=\"DejaVuSans-30\" d=\"M 2034 4250 \nQ 1547 4250 1301 3770 \nQ 1056 3291 1056 2328 \nQ 1056 1369 1301 889 \nQ 1547 409 2034 409 \nQ 2525 409 2770 889 \nQ 3016 1369 3016 2328 \nQ 3016 3291 2770 3770 \nQ 2525 4250 2034 4250 \nz\nM 2034 4750 \nQ 2819 4750 3233 4129 \nQ 3647 3509 3647 2328 \nQ 3647 1150 3233 529 \nQ 2819 -91 2034 -91 \nQ 1250 -91 836 529 \nQ 422 1150 422 2328 \nQ 422 3509 836 4129 \nQ 1250 4750 2034 4750 \nz\n\" transform=\"scale(0.015625)\"/>\n       </defs>\n       <use xlink:href=\"#DejaVuSans-30\"/>\n      </g>\n     </g>\n    </g>\n    <g id=\"xtick_2\">\n     <g id=\"line2d_2\">\n      <g>\n       <use xlink:href=\"#mb8f03fca39\" x=\"100.444943\" y=\"273.312\" style=\"stroke: #000000; stroke-width: 0.8\"/>\n      </g>\n     </g>\n     <g id=\"text_2\">\n      <!-- 100 -->\n      <g transform=\"translate(90.901193 287.910437)scale(0.1 -0.1)\">\n       <defs>\n        <path id=\"DejaVuSans-31\" d=\"M 794 531 \nL 1825 531 \nL 1825 4091 \nL 703 3866 \nL 703 4441 \nL 1819 4666 \nL 2450 4666 \nL 2450 531 \nL 3481 531 \nL 3481 0 \nL 794 0 \nL 794 531 \nz\n\" transform=\"scale(0.015625)\"/>\n       </defs>\n       <use xlink:href=\"#DejaVuSans-31\"/>\n       <use xlink:href=\"#DejaVuSans-30\" x=\"63.623047\"/>\n       <use xlink:href=\"#DejaVuSans-30\" x=\"127.246094\"/>\n      </g>\n     </g>\n    </g>\n    <g id=\"xtick_3\">\n     <g id=\"line2d_3\">\n      <g>\n       <use xlink:href=\"#mb8f03fca39\" x=\"154.554034\" y=\"273.312\" style=\"stroke: #000000; stroke-width: 0.8\"/>\n      </g>\n     </g>\n     <g id=\"text_3\">\n      <!-- 200 -->\n      <g transform=\"translate(145.010284 287.910437)scale(0.1 -0.1)\">\n       <defs>\n        <path id=\"DejaVuSans-32\" d=\"M 1228 531 \nL 3431 531 \nL 3431 0 \nL 469 0 \nL 469 531 \nQ 828 903 1448 1529 \nQ 2069 2156 2228 2338 \nQ 2531 2678 2651 2914 \nQ 2772 3150 2772 3378 \nQ 2772 3750 2511 3984 \nQ 2250 4219 1831 4219 \nQ 1534 4219 1204 4116 \nQ 875 4013 500 3803 \nL 500 4441 \nQ 881 4594 1212 4672 \nQ 1544 4750 1819 4750 \nQ 2544 4750 2975 4387 \nQ 3406 4025 3406 3419 \nQ 3406 3131 3298 2873 \nQ 3191 2616 2906 2266 \nQ 2828 2175 2409 1742 \nQ 1991 1309 1228 531 \nz\n\" transform=\"scale(0.015625)\"/>\n       </defs>\n       <use xlink:href=\"#DejaVuSans-32\"/>\n       <use xlink:href=\"#DejaVuSans-30\" x=\"63.623047\"/>\n       <use xlink:href=\"#DejaVuSans-30\" x=\"127.246094\"/>\n      </g>\n     </g>\n    </g>\n    <g id=\"xtick_4\">\n     <g id=\"line2d_4\">\n      <g>\n       <use xlink:href=\"#mb8f03fca39\" x=\"208.663125\" y=\"273.312\" style=\"stroke: #000000; stroke-width: 0.8\"/>\n      </g>\n     </g>\n     <g id=\"text_4\">\n      <!-- 300 -->\n      <g transform=\"translate(199.119375 287.910437)scale(0.1 -0.1)\">\n       <defs>\n        <path id=\"DejaVuSans-33\" d=\"M 2597 2516 \nQ 3050 2419 3304 2112 \nQ 3559 1806 3559 1356 \nQ 3559 666 3084 287 \nQ 2609 -91 1734 -91 \nQ 1441 -91 1130 -33 \nQ 819 25 488 141 \nL 488 750 \nQ 750 597 1062 519 \nQ 1375 441 1716 441 \nQ 2309 441 2620 675 \nQ 2931 909 2931 1356 \nQ 2931 1769 2642 2001 \nQ 2353 2234 1838 2234 \nL 1294 2234 \nL 1294 2753 \nL 1863 2753 \nQ 2328 2753 2575 2939 \nQ 2822 3125 2822 3475 \nQ 2822 3834 2567 4026 \nQ 2313 4219 1838 4219 \nQ 1578 4219 1281 4162 \nQ 984 4106 628 3988 \nL 628 4550 \nQ 988 4650 1302 4700 \nQ 1616 4750 1894 4750 \nQ 2613 4750 3031 4423 \nQ 3450 4097 3450 3541 \nQ 3450 3153 3228 2886 \nQ 3006 2619 2597 2516 \nz\n\" transform=\"scale(0.015625)\"/>\n       </defs>\n       <use xlink:href=\"#DejaVuSans-33\"/>\n       <use xlink:href=\"#DejaVuSans-30\" x=\"63.623047\"/>\n       <use xlink:href=\"#DejaVuSans-30\" x=\"127.246094\"/>\n      </g>\n     </g>\n    </g>\n    <g id=\"xtick_5\">\n     <g id=\"line2d_5\">\n      <g>\n       <use xlink:href=\"#mb8f03fca39\" x=\"262.772216\" y=\"273.312\" style=\"stroke: #000000; stroke-width: 0.8\"/>\n      </g>\n     </g>\n     <g id=\"text_5\">\n      <!-- 400 -->\n      <g transform=\"translate(253.228466 287.910437)scale(0.1 -0.1)\">\n       <defs>\n        <path id=\"DejaVuSans-34\" d=\"M 2419 4116 \nL 825 1625 \nL 2419 1625 \nL 2419 4116 \nz\nM 2253 4666 \nL 3047 4666 \nL 3047 1625 \nL 3713 1625 \nL 3713 1100 \nL 3047 1100 \nL 3047 0 \nL 2419 0 \nL 2419 1100 \nL 313 1100 \nL 313 1709 \nL 2253 4666 \nz\n\" transform=\"scale(0.015625)\"/>\n       </defs>\n       <use xlink:href=\"#DejaVuSans-34\"/>\n       <use xlink:href=\"#DejaVuSans-30\" x=\"63.623047\"/>\n       <use xlink:href=\"#DejaVuSans-30\" x=\"127.246094\"/>\n      </g>\n     </g>\n    </g>\n    <g id=\"xtick_6\">\n     <g id=\"line2d_6\">\n      <g>\n       <use xlink:href=\"#mb8f03fca39\" x=\"316.881307\" y=\"273.312\" style=\"stroke: #000000; stroke-width: 0.8\"/>\n      </g>\n     </g>\n     <g id=\"text_6\">\n      <!-- 500 -->\n      <g transform=\"translate(307.337557 287.910437)scale(0.1 -0.1)\">\n       <defs>\n        <path id=\"DejaVuSans-35\" d=\"M 691 4666 \nL 3169 4666 \nL 3169 4134 \nL 1269 4134 \nL 1269 2991 \nQ 1406 3038 1543 3061 \nQ 1681 3084 1819 3084 \nQ 2600 3084 3056 2656 \nQ 3513 2228 3513 1497 \nQ 3513 744 3044 326 \nQ 2575 -91 1722 -91 \nQ 1428 -91 1123 -41 \nQ 819 9 494 109 \nL 494 744 \nQ 775 591 1075 516 \nQ 1375 441 1709 441 \nQ 2250 441 2565 725 \nQ 2881 1009 2881 1497 \nQ 2881 1984 2565 2268 \nQ 2250 2553 1709 2553 \nQ 1456 2553 1204 2497 \nQ 953 2441 691 2322 \nL 691 4666 \nz\n\" transform=\"scale(0.015625)\"/>\n       </defs>\n       <use xlink:href=\"#DejaVuSans-35\"/>\n       <use xlink:href=\"#DejaVuSans-30\" x=\"63.623047\"/>\n       <use xlink:href=\"#DejaVuSans-30\" x=\"127.246094\"/>\n      </g>\n     </g>\n    </g>\n    <g id=\"xtick_7\">\n     <g id=\"line2d_7\">\n      <g>\n       <use xlink:href=\"#mb8f03fca39\" x=\"370.990398\" y=\"273.312\" style=\"stroke: #000000; stroke-width: 0.8\"/>\n      </g>\n     </g>\n     <g id=\"text_7\">\n      <!-- 600 -->\n      <g transform=\"translate(361.446648 287.910437)scale(0.1 -0.1)\">\n       <defs>\n        <path id=\"DejaVuSans-36\" d=\"M 2113 2584 \nQ 1688 2584 1439 2293 \nQ 1191 2003 1191 1497 \nQ 1191 994 1439 701 \nQ 1688 409 2113 409 \nQ 2538 409 2786 701 \nQ 3034 994 3034 1497 \nQ 3034 2003 2786 2293 \nQ 2538 2584 2113 2584 \nz\nM 3366 4563 \nL 3366 3988 \nQ 3128 4100 2886 4159 \nQ 2644 4219 2406 4219 \nQ 1781 4219 1451 3797 \nQ 1122 3375 1075 2522 \nQ 1259 2794 1537 2939 \nQ 1816 3084 2150 3084 \nQ 2853 3084 3261 2657 \nQ 3669 2231 3669 1497 \nQ 3669 778 3244 343 \nQ 2819 -91 2113 -91 \nQ 1303 -91 875 529 \nQ 447 1150 447 2328 \nQ 447 3434 972 4092 \nQ 1497 4750 2381 4750 \nQ 2619 4750 2861 4703 \nQ 3103 4656 3366 4563 \nz\n\" transform=\"scale(0.015625)\"/>\n       </defs>\n       <use xlink:href=\"#DejaVuSans-36\"/>\n       <use xlink:href=\"#DejaVuSans-30\" x=\"63.623047\"/>\n       <use xlink:href=\"#DejaVuSans-30\" x=\"127.246094\"/>\n      </g>\n     </g>\n    </g>\n   </g>\n   <g id=\"matplotlib.axis_2\">\n    <g id=\"ytick_1\">\n     <g id=\"line2d_8\">\n      <defs>\n       <path id=\"md29c0f3e72\" d=\"M 0 0 \nL -3.5 0 \n\" style=\"stroke: #000000; stroke-width: 0.8\"/>\n      </defs>\n      <g>\n       <use xlink:href=\"#md29c0f3e72\" x=\"30.103125\" y=\"261.216\" style=\"stroke: #000000; stroke-width: 0.8\"/>\n      </g>\n     </g>\n     <g id=\"text_8\">\n      <!-- 0.0 -->\n      <g transform=\"translate(7.2 265.015219)scale(0.1 -0.1)\">\n       <defs>\n        <path id=\"DejaVuSans-2e\" d=\"M 684 794 \nL 1344 794 \nL 1344 0 \nL 684 0 \nL 684 794 \nz\n\" transform=\"scale(0.015625)\"/>\n       </defs>\n       <use xlink:href=\"#DejaVuSans-30\"/>\n       <use xlink:href=\"#DejaVuSans-2e\" x=\"63.623047\"/>\n       <use xlink:href=\"#DejaVuSans-30\" x=\"95.410156\"/>\n      </g>\n     </g>\n    </g>\n    <g id=\"ytick_2\">\n     <g id=\"line2d_9\">\n      <g>\n       <use xlink:href=\"#md29c0f3e72\" x=\"30.103125\" y=\"212.832\" style=\"stroke: #000000; stroke-width: 0.8\"/>\n      </g>\n     </g>\n     <g id=\"text_9\">\n      <!-- 0.2 -->\n      <g transform=\"translate(7.2 216.631219)scale(0.1 -0.1)\">\n       <use xlink:href=\"#DejaVuSans-30\"/>\n       <use xlink:href=\"#DejaVuSans-2e\" x=\"63.623047\"/>\n       <use xlink:href=\"#DejaVuSans-32\" x=\"95.410156\"/>\n      </g>\n     </g>\n    </g>\n    <g id=\"ytick_3\">\n     <g id=\"line2d_10\">\n      <g>\n       <use xlink:href=\"#md29c0f3e72\" x=\"30.103125\" y=\"164.448\" style=\"stroke: #000000; stroke-width: 0.8\"/>\n      </g>\n     </g>\n     <g id=\"text_10\">\n      <!-- 0.4 -->\n      <g transform=\"translate(7.2 168.247219)scale(0.1 -0.1)\">\n       <use xlink:href=\"#DejaVuSans-30\"/>\n       <use xlink:href=\"#DejaVuSans-2e\" x=\"63.623047\"/>\n       <use xlink:href=\"#DejaVuSans-34\" x=\"95.410156\"/>\n      </g>\n     </g>\n    </g>\n    <g id=\"ytick_4\">\n     <g id=\"line2d_11\">\n      <g>\n       <use xlink:href=\"#md29c0f3e72\" x=\"30.103125\" y=\"116.064\" style=\"stroke: #000000; stroke-width: 0.8\"/>\n      </g>\n     </g>\n     <g id=\"text_11\">\n      <!-- 0.6 -->\n      <g transform=\"translate(7.2 119.863219)scale(0.1 -0.1)\">\n       <use xlink:href=\"#DejaVuSans-30\"/>\n       <use xlink:href=\"#DejaVuSans-2e\" x=\"63.623047\"/>\n       <use xlink:href=\"#DejaVuSans-36\" x=\"95.410156\"/>\n      </g>\n     </g>\n    </g>\n    <g id=\"ytick_5\">\n     <g id=\"line2d_12\">\n      <g>\n       <use xlink:href=\"#md29c0f3e72\" x=\"30.103125\" y=\"67.68\" style=\"stroke: #000000; stroke-width: 0.8\"/>\n      </g>\n     </g>\n     <g id=\"text_12\">\n      <!-- 0.8 -->\n      <g transform=\"translate(7.2 71.479219)scale(0.1 -0.1)\">\n       <defs>\n        <path id=\"DejaVuSans-38\" d=\"M 2034 2216 \nQ 1584 2216 1326 1975 \nQ 1069 1734 1069 1313 \nQ 1069 891 1326 650 \nQ 1584 409 2034 409 \nQ 2484 409 2743 651 \nQ 3003 894 3003 1313 \nQ 3003 1734 2745 1975 \nQ 2488 2216 2034 2216 \nz\nM 1403 2484 \nQ 997 2584 770 2862 \nQ 544 3141 544 3541 \nQ 544 4100 942 4425 \nQ 1341 4750 2034 4750 \nQ 2731 4750 3128 4425 \nQ 3525 4100 3525 3541 \nQ 3525 3141 3298 2862 \nQ 3072 2584 2669 2484 \nQ 3125 2378 3379 2068 \nQ 3634 1759 3634 1313 \nQ 3634 634 3220 271 \nQ 2806 -91 2034 -91 \nQ 1263 -91 848 271 \nQ 434 634 434 1313 \nQ 434 1759 690 2068 \nQ 947 2378 1403 2484 \nz\nM 1172 3481 \nQ 1172 3119 1398 2916 \nQ 1625 2713 2034 2713 \nQ 2441 2713 2670 2916 \nQ 2900 3119 2900 3481 \nQ 2900 3844 2670 4047 \nQ 2441 4250 2034 4250 \nQ 1625 4250 1398 4047 \nQ 1172 3844 1172 3481 \nz\n\" transform=\"scale(0.015625)\"/>\n       </defs>\n       <use xlink:href=\"#DejaVuSans-30\"/>\n       <use xlink:href=\"#DejaVuSans-2e\" x=\"63.623047\"/>\n       <use xlink:href=\"#DejaVuSans-38\" x=\"95.410156\"/>\n      </g>\n     </g>\n    </g>\n    <g id=\"ytick_6\">\n     <g id=\"line2d_13\">\n      <g>\n       <use xlink:href=\"#md29c0f3e72\" x=\"30.103125\" y=\"19.296\" style=\"stroke: #000000; stroke-width: 0.8\"/>\n      </g>\n     </g>\n     <g id=\"text_13\">\n      <!-- 1.0 -->\n      <g transform=\"translate(7.2 23.095219)scale(0.1 -0.1)\">\n       <use xlink:href=\"#DejaVuSans-31\"/>\n       <use xlink:href=\"#DejaVuSans-2e\" x=\"63.623047\"/>\n       <use xlink:href=\"#DejaVuSans-30\" x=\"95.410156\"/>\n      </g>\n     </g>\n    </g>\n   </g>\n   <g id=\"line2d_14\">\n    <path d=\"M 46.335852 261.216 \nL 370.990398 261.216 \nL 370.990398 261.216 \n\" clip-path=\"url(#p02a3bdb738)\" style=\"fill: none; stroke: #016e82; stroke-width: 1.5; stroke-linecap: square\"/>\n   </g>\n   <g id=\"line2d_15\">\n    <path d=\"M 46.335852 261.216 \nL 370.990398 261.215999 \nL 370.990398 261.215999 \n\" clip-path=\"url(#p02a3bdb738)\" style=\"fill: none; stroke: #333795; stroke-width: 1.5; stroke-linecap: square\"/>\n   </g>\n   <g id=\"line2d_16\">\n    <path d=\"M 46.335852 261.216 \nL 370.990398 261.216 \nL 370.990398 261.216 \n\" clip-path=\"url(#p02a3bdb738)\" style=\"fill: none; stroke: #2e5eac; stroke-width: 1.5; stroke-linecap: square\"/>\n   </g>\n   <g id=\"line2d_17\">\n    <path d=\"M 46.335852 19.296 \nL 49.587818 19.428838 \nL 54.465766 19.524504 \nL 57.717731 19.586747 \nL 69.09961 20.940197 \nL 71.267587 21.543791 \nL 73.977558 22.337406 \nL 77.229524 23.098048 \nL 78.855506 23.595281 \nL 82.107472 25.203686 \nL 82.649466 25.585374 \nL 83.19146 25.82637 \nL 83.733454 26.208336 \nL 84.275449 26.43164 \nL 84.817443 26.796303 \nL 85.359437 27.002963 \nL 85.901431 27.348464 \nL 86.443426 27.550085 \nL 88.069408 28.478984 \nL 88.611402 28.7277 \nL 91.863368 31.275297 \nL 92.405362 31.898519 \nL 92.947356 32.330894 \nL 93.489351 32.969972 \nL 94.031345 33.419346 \nL 94.573339 34.042109 \nL 96.199322 35.53597 \nL 97.825304 37.121642 \nL 98.909293 38.202545 \nL 99.993281 39.398853 \nL 101.07727 40.745634 \nL 102.703252 43.041173 \nL 106.497212 48.953472 \nL 108.123195 51.575211 \nL 108.665189 52.307543 \nL 110.291172 55.141513 \nL 110.833166 55.966241 \nL 111.37516 57.149481 \nL 111.917154 58.039827 \nL 112.459149 59.347658 \nL 113.001143 60.293475 \nL 113.543137 61.713378 \nL 114.085131 62.692828 \nL 114.627126 64.191463 \nL 115.16912 65.1794 \nL 115.711114 66.712898 \nL 116.253108 67.691268 \nL 116.795103 69.225169 \nL 117.337097 70.189415 \nL 117.879091 71.709885 \nL 118.421085 72.671264 \nL 118.963079 74.193063 \nL 119.505074 75.174539 \nL 120.047068 76.73123 \nL 120.589062 77.761614 \nL 121.131056 79.392792 \nL 121.673051 80.497546 \nL 122.215045 82.228223 \nL 122.757039 83.42283 \nL 123.299033 85.253468 \nL 123.841028 86.539024 \nL 124.383022 88.441559 \nL 124.925016 89.806177 \nL 125.46701 91.735994 \nL 126.009004 93.158825 \nL 126.550999 95.069864 \nL 127.092993 96.530164 \nL 128.176981 99.878178 \nL 129.802964 104.980245 \nL 131.428947 109.947633 \nL 135.222906 123.001401 \nL 137.932878 133.17955 \nL 138.474872 134.949456 \nL 139.016866 137.170056 \nL 139.55886 138.877719 \nL 140.100855 141.11076 \nL 140.642849 142.775689 \nL 141.184843 145.034027 \nL 141.726837 146.683056 \nL 142.268831 148.992611 \nL 142.810826 150.648542 \nL 143.35282 153.032569 \nL 143.894814 154.708548 \nL 144.436808 157.177868 \nL 144.978803 158.872756 \nL 145.520797 161.416465 \nL 146.062791 163.119075 \nL 146.604785 165.707774 \nL 147.14678 167.401208 \nL 147.688774 169.994153 \nL 148.230768 171.66357 \nL 148.772762 174.223545 \nL 149.314757 175.860475 \nL 149.856751 178.363353 \nL 150.398745 179.969888 \nL 150.940739 182.410942 \nL 151.482733 183.997481 \nL 152.024728 186.388106 \nL 152.566722 187.971225 \nL 153.108716 190.329962 \nL 153.65071 191.926636 \nL 154.192705 194.267843 \nL 154.734699 195.891165 \nL 155.276693 198.216325 \nL 155.818687 199.870571 \nL 156.360682 202.165819 \nL 156.902676 203.846807 \nL 157.44467 206.085958 \nL 157.986664 207.781029 \nL 158.528658 209.935304 \nL 160.154641 215.349879 \nL 161.780624 220.733964 \nL 166.658572 234.970802 \nL 170.994526 245.784316 \nL 171.53652 246.768956 \nL 172.078514 248.048098 \nL 172.620509 248.932621 \nL 173.162503 250.117546 \nL 173.704497 250.9116 \nL 174.246491 252.003331 \nL 174.788485 252.717017 \nL 175.33048 253.718899 \nL 175.872474 254.360382 \nL 176.414468 255.273815 \nL 176.956462 255.846998 \nL 177.498457 256.668595 \nL 178.040451 257.173419 \nL 178.582445 257.894632 \nL 179.124439 258.328091 \nL 179.666434 258.937941 \nL 182.376405 260.629926 \nL 183.460393 260.992274 \nL 184.544382 261.160308 \nL 185.62837 261.142161 \nL 187.254353 260.731419 \nL 187.796347 260.554513 \nL 189.964324 259.188294 \nL 192.132301 257.009244 \nL 194.842272 253.27022 \nL 196.468255 250.622457 \nL 198.094237 247.661722 \nL 200.262214 243.096932 \nL 204.598168 231.996918 \nL 205.140162 230.22996 \nL 205.682157 228.981989 \nL 206.224151 227.168324 \nL 206.766145 225.916527 \nL 207.308139 224.053641 \nL 207.850134 222.786858 \nL 208.392128 220.859486 \nL 208.934122 219.561623 \nL 209.476116 217.548849 \nL 210.018111 216.204376 \nL 210.560105 214.093592 \nL 211.102099 212.693104 \nL 211.644093 210.488397 \nL 212.186088 209.03194 \nL 212.728082 206.759001 \nL 213.270076 205.257125 \nL 213.81207 202.955094 \nL 214.354064 201.425019 \nL 214.896059 199.136271 \nL 215.438053 197.59566 \nL 215.980047 195.349103 \nL 216.522041 193.808674 \nL 217.064036 191.612651 \nL 217.60603 190.070547 \nL 218.148024 187.910752 \nL 218.690018 186.350527 \nL 219.232013 184.201057 \nL 219.774007 182.596263 \nL 220.316001 180.432032 \nL 220.857995 178.75512 \nL 222.483978 172.602073 \nL 224.109961 166.64153 \nL 226.277938 158.581018 \nL 229.529903 147.360805 \nL 231.155886 142.059547 \nL 232.781868 136.286772 \nL 233.323863 134.644779 \nL 233.865857 132.480604 \nL 234.407851 130.873914 \nL 234.949845 128.683685 \nL 235.49184 127.137855 \nL 236.033834 124.973985 \nL 236.575828 123.509394 \nL 237.117822 121.415049 \nL 237.659816 120.039555 \nL 238.201811 118.035399 \nL 238.743805 116.740789 \nL 239.285799 114.815924 \nL 239.827793 113.580425 \nL 240.369788 111.701872 \nL 240.911782 110.495654 \nL 241.453776 108.622499 \nL 241.99577 107.417246 \nL 242.537765 105.522343 \nL 243.079759 104.299157 \nL 243.621753 102.380462 \nL 244.163747 101.13562 \nL 244.705741 99.22049 \nL 245.247736 97.965686 \nL 245.78973 96.09894 \nL 246.331724 94.857527 \nL 246.873718 93.085307 \nL 247.415713 91.882387 \nL 247.957707 90.233746 \nL 248.499701 89.086925 \nL 249.041695 87.564456 \nL 249.58369 86.475301 \nL 250.125684 85.055917 \nL 250.667678 84.008573 \nL 251.209672 82.655186 \nL 251.751667 81.619713 \nL 253.377649 77.931131 \nL 255.003632 74.393325 \nL 257.171609 69.604608 \nL 259.339586 65.329301 \nL 263.67554 58.303548 \nL 264.217534 57.57142 \nL 264.759528 56.591398 \nL 265.301522 55.865981 \nL 265.843517 54.857732 \nL 266.385511 54.148782 \nL 266.927505 53.137744 \nL 267.469499 52.461983 \nL 268.011493 51.484616 \nL 268.553488 50.857934 \nL 269.095482 49.946247 \nL 269.637476 49.378201 \nL 270.17947 48.548353 \nL 270.721465 48.037833 \nL 271.263459 47.283827 \nL 271.805453 46.819837 \nL 272.347447 46.117891 \nL 272.889442 45.681491 \nL 273.431436 45.000852 \nL 273.97343 44.571541 \nL 274.515424 43.887344 \nL 275.057419 43.448563 \nL 275.599413 42.752194 \nL 276.141407 42.297003 \nL 276.683401 41.598247 \nL 277.225395 41.13039 \nL 277.76739 40.452876 \nL 278.309384 39.986246 \nL 278.851378 39.356266 \nL 283.187332 35.903332 \nL 285.355309 34.513172 \nL 287.523286 33.06166 \nL 290.233257 31.256878 \nL 293.485222 29.657317 \nL 296.195194 28.645776 \nL 297.821176 27.936347 \nL 299.447159 27.286036 \nL 300.531147 26.83996 \nL 301.615136 26.436734 \nL 302.699124 26.090045 \nL 304.325107 25.643515 \nL 307.035078 25.07229 \nL 310.829038 24.086504 \nL 314.622998 23.350556 \nL 326.546871 21.851947 \nL 330.34083 21.579404 \nL 334.13479 21.22525 \nL 345.516669 20.676819 \nL 359.608519 20.3335 \nL 370.990398 20.174449 \nL 370.990398 20.174449 \n\" clip-path=\"url(#p02a3bdb738)\" style=\"fill: none; stroke: #4498d3; stroke-width: 1.5; stroke-linecap: square\"/>\n   </g>\n   <g id=\"line2d_18\">\n    <path d=\"M 46.335852 261.216 \nL 53.923772 261.10118 \nL 58.80172 260.866379 \nL 65.30565 260.235346 \nL 71.809581 259.076975 \nL 76.687529 257.73316 \nL 79.939495 256.556434 \nL 84.275449 254.546758 \nL 85.901431 253.59629 \nL 86.443426 253.336349 \nL 88.069408 252.25326 \nL 88.611402 251.96485 \nL 90.237385 250.728509 \nL 90.779379 250.404371 \nL 91.321374 249.891943 \nL 91.863368 249.547894 \nL 92.405362 249.005644 \nL 92.947356 248.640747 \nL 93.489351 248.070856 \nL 94.031345 247.684114 \nL 94.573339 247.088763 \nL 95.115333 246.678811 \nL 95.657327 246.059188 \nL 96.199322 245.623723 \nL 96.741316 244.979538 \nL 97.28331 244.515195 \nL 98.909293 242.648694 \nL 99.451287 242.112587 \nL 101.07727 240.049057 \nL 102.161258 238.64108 \nL 103.787241 236.439649 \nL 108.123195 229.716923 \nL 109.749178 226.973845 \nL 114.085131 218.522363 \nL 114.627126 217.177245 \nL 115.16912 216.197762 \nL 115.711114 214.798511 \nL 116.253108 213.811521 \nL 116.795103 212.36476 \nL 117.337097 211.367961 \nL 117.879091 209.87374 \nL 118.421085 208.860528 \nL 118.963079 207.312269 \nL 119.505074 206.272807 \nL 120.047068 204.659962 \nL 120.589062 203.583823 \nL 121.131056 201.897586 \nL 121.673051 200.776198 \nL 122.215045 199.014985 \nL 122.757039 197.844332 \nL 123.299033 196.017351 \nL 123.841028 194.79835 \nL 124.383022 192.923978 \nL 124.925016 191.662149 \nL 125.46701 189.76316 \nL 126.009004 188.465323 \nL 126.550999 186.560566 \nL 127.092993 185.231374 \nL 127.634987 183.329481 \nL 128.176981 181.967278 \nL 128.718976 180.064099 \nL 129.26097 178.659409 \nL 129.802964 176.741193 \nL 130.344958 175.27696 \nL 131.970941 169.797029 \nL 132.512935 168.159547 \nL 134.138918 162.3642 \nL 135.764901 156.612894 \nL 140.100855 141.040507 \nL 141.726837 135.308773 \nL 143.35282 128.95279 \nL 143.894814 127.119086 \nL 144.436808 124.696584 \nL 144.978803 122.872981 \nL 145.520797 120.383601 \nL 146.062791 118.595902 \nL 146.604785 116.089455 \nL 147.14678 114.360862 \nL 147.688774 111.882535 \nL 148.230768 110.224649 \nL 148.772762 107.799397 \nL 149.314757 106.207624 \nL 149.856751 103.829097 \nL 150.398745 102.283354 \nL 150.940739 99.919767 \nL 151.482733 98.390195 \nL 152.024728 95.999065 \nL 152.566722 94.45622 \nL 153.108716 92.008727 \nL 153.65071 90.4333 \nL 154.192705 87.92953 \nL 154.734699 86.320116 \nL 155.276693 83.796346 \nL 155.818687 82.170978 \nL 156.360682 79.686992 \nL 156.902676 78.078275 \nL 157.44467 75.697032 \nL 157.986664 74.139995 \nL 158.528658 71.902002 \nL 159.070653 70.421537 \nL 159.612647 68.332426 \nL 160.154641 66.930671 \nL 160.696635 64.958953 \nL 161.23863 63.613176 \nL 161.780624 61.709213 \nL 162.322618 60.3781 \nL 162.864612 58.495657 \nL 163.406607 57.135941 \nL 163.948601 55.255425 \nL 164.490595 53.840386 \nL 165.032589 51.977241 \nL 165.574583 50.512607 \nL 166.658572 47.236842 \nL 167.74256 44.130233 \nL 168.826549 41.298171 \nL 169.910537 38.791601 \nL 171.53652 35.553714 \nL 176.414468 27.202055 \nL 178.582445 24.089848 \nL 180.208428 22.674663 \nL 180.750422 22.27824 \nL 182.918399 21.680258 \nL 183.460393 21.718756 \nL 184.002387 21.602228 \nL 184.544382 21.688817 \nL 185.086376 21.563592 \nL 185.62837 21.680466 \nL 186.170364 21.552979 \nL 186.712359 21.707567 \nL 187.254353 21.624109 \nL 187.796347 21.847654 \nL 188.338341 21.869692 \nL 188.880336 22.206316 \nL 189.42233 22.385853 \nL 191.590307 24.407236 \nL 192.132301 25.241402 \nL 192.674295 25.855413 \nL 193.216289 26.823782 \nL 193.758284 27.485126 \nL 194.300278 28.539714 \nL 194.842272 29.204823 \nL 195.384266 30.303435 \nL 195.926261 30.959709 \nL 196.468255 32.082807 \nL 197.010249 32.746379 \nL 197.552243 33.904925 \nL 198.094237 34.612341 \nL 198.636232 35.843339 \nL 199.178226 36.632393 \nL 199.72022 37.981987 \nL 200.262214 38.877335 \nL 200.804209 40.379981 \nL 201.346203 41.383273 \nL 201.888197 43.046938 \nL 202.430191 44.140093 \nL 202.972186 45.940352 \nL 203.51418 47.091694 \nL 204.056174 48.981887 \nL 204.598168 50.161178 \nL 205.140162 52.090195 \nL 205.682157 53.276652 \nL 206.224151 55.207612 \nL 206.766145 56.397252 \nL 207.308139 58.319813 \nL 207.850134 59.52377 \nL 208.392128 61.454185 \nL 208.934122 62.694231 \nL 209.476116 64.662865 \nL 210.018111 65.962034 \nL 210.560105 67.997989 \nL 211.102099 69.374609 \nL 211.644093 71.489514 \nL 212.186088 72.949873 \nL 212.728082 75.131944 \nL 213.270076 76.671044 \nL 213.81207 78.888805 \nL 214.354064 80.491495 \nL 214.896059 82.70533 \nL 215.438053 84.353201 \nL 215.980047 86.528752 \nL 216.522041 88.20585 \nL 217.60603 92.024277 \nL 219.232013 97.829714 \nL 220.857995 103.398414 \nL 227.361926 126.951318 \nL 227.90392 128.669342 \nL 228.445914 130.780798 \nL 228.987909 132.433641 \nL 229.529903 134.54466 \nL 230.071897 136.141884 \nL 230.613891 138.255711 \nL 231.155886 139.807655 \nL 231.69788 141.929491 \nL 232.239874 143.445163 \nL 232.781868 145.578587 \nL 233.323863 147.063105 \nL 233.865857 149.205723 \nL 234.407851 150.660733 \nL 234.949845 152.804433 \nL 235.49184 154.228956 \nL 236.033834 156.360692 \nL 236.575828 157.753015 \nL 237.117822 159.858095 \nL 237.659816 161.216917 \nL 238.201811 163.282136 \nL 238.743805 164.608338 \nL 239.285799 166.624457 \nL 239.827793 167.920564 \nL 240.369788 169.882556 \nL 240.911782 171.15339 \nL 241.453776 173.060497 \nL 241.99577 174.311763 \nL 242.537765 176.164941 \nL 243.079759 177.402691 \nL 243.621753 179.203306 \nL 244.163747 180.432756 \nL 244.705741 182.180703 \nL 245.247736 183.405734 \nL 245.78973 185.098782 \nL 246.331724 186.321097 \nL 246.873718 187.954939 \nL 247.415713 189.174666 \nL 247.957707 190.744044 \nL 248.499701 191.959364 \nL 249.58369 194.667494 \nL 251.209672 198.644502 \nL 256.08762 209.195273 \nL 261.507563 219.399841 \nL 262.049557 220.177509 \nL 262.591551 221.224571 \nL 263.133545 221.956641 \nL 263.67554 222.972318 \nL 264.217534 223.663296 \nL 264.759528 224.647293 \nL 265.301522 225.302545 \nL 265.843517 226.256238 \nL 266.385511 226.8812 \nL 266.927505 227.806575 \nL 267.469499 228.40592 \nL 268.011493 229.303869 \nL 268.553488 229.881058 \nL 269.095482 230.750795 \nL 269.637476 231.307899 \nL 270.17947 232.146469 \nL 270.721465 232.68434 \nL 271.263459 233.48776 \nL 271.805453 234.006666 \nL 272.347447 234.771079 \nL 272.889442 235.271273 \nL 273.431436 235.994383 \nL 273.97343 236.476643 \nL 274.515424 237.158364 \nL 275.057419 237.624377 \nL 275.599413 238.266821 \nL 276.141407 238.719026 \nL 277.225395 239.766716 \nL 278.309384 240.77343 \nL 279.935367 242.25659 \nL 285.897303 246.742182 \nL 290.233257 249.328187 \nL 292.943228 250.685375 \nL 294.569211 251.487726 \nL 296.195194 252.136579 \nL 297.821176 252.817492 \nL 299.447159 253.366862 \nL 301.073142 253.958147 \nL 302.699124 254.440679 \nL 304.325107 254.949949 \nL 314.081003 257.103032 \nL 318.958951 257.856996 \nL 328.714848 258.908135 \nL 344.43268 259.811483 \nL 356.898548 260.168154 \nL 368.822421 260.358387 \nL 370.990398 260.382652 \nL 370.990398 260.382652 \n\" clip-path=\"url(#p02a3bdb738)\" style=\"fill: none; stroke: #cd85b9; stroke-width: 1.5; stroke-linecap: square\"/>\n   </g>\n   <g id=\"patch_3\">\n    <path d=\"M 30.103125 273.312 \nL 30.103125 7.2 \n\" style=\"fill: none; stroke: #000000; stroke-width: 0.8; stroke-linejoin: miter; stroke-linecap: square\"/>\n   </g>\n   <g id=\"patch_4\">\n    <path d=\"M 387.223125 273.312 \nL 387.223125 7.2 \n\" style=\"fill: none; stroke: #000000; stroke-width: 0.8; stroke-linejoin: miter; stroke-linecap: square\"/>\n   </g>\n   <g id=\"patch_5\">\n    <path d=\"M 30.103125 273.312 \nL 387.223125 273.312 \n\" style=\"fill: none; stroke: #000000; stroke-width: 0.8; stroke-linejoin: miter; stroke-linecap: square\"/>\n   </g>\n   <g id=\"patch_6\">\n    <path d=\"M 30.103125 7.2 \nL 387.223125 7.2 \n\" style=\"fill: none; stroke: #000000; stroke-width: 0.8; stroke-linejoin: miter; stroke-linecap: square\"/>\n   </g>\n  </g>\n </g>\n <defs>\n  <clipPath id=\"p02a3bdb738\">\n   <rect x=\"30.103125\" y=\"7.2\" width=\"357.12\" height=\"266.112\"/>\n  </clipPath>\n </defs>\n</svg>\n",
      "text/plain": [
       "<Figure size 640x480 with 1 Axes>"
      ]
     },
     "metadata": {},
     "output_type": "display_data"
    }
   ],
   "source": [
    "for res in result.expect:\n",
    "    plt.plot(tlist, res)"
   ]
  },
  {
   "cell_type": "code",
   "execution_count": 1435,
   "metadata": {},
   "outputs": [],
   "source": [
    "prop = qt.propagator(H_qbt_drive, tlist)[-1]\n",
    "Uc = qt.Qobj([[prop.matrix_element(s1, s2) for s1 in computational_subspace] for s2 in computational_subspace])"
   ]
  },
  {
   "cell_type": "code",
   "execution_count": 1442,
   "metadata": {},
   "outputs": [],
   "source": [
    "def remove_global_phase(op):\n",
    "    elem = op.data.toarray()[0][0]\n",
    "    return op*np.conj(elem)\n",
    "\n",
    "def dphi(state):\n",
    "    return -np.angle(prop.matrix_element(state, state))+np.angle(prop.matrix_element(states[0],states[0]))"
   ]
  },
  {
   "cell_type": "code",
   "execution_count": 1438,
   "metadata": {},
   "outputs": [],
   "source": [
    "Uz = remove_global_phase(qt.tensor(rz(dphi(states[2])), rz(dphi(states[1]))))"
   ]
  },
  {
   "cell_type": "code",
   "execution_count": 1439,
   "metadata": {},
   "outputs": [
    {
     "data": {
      "text/latex": [
       "Quantum object: dims = [[2, 2], [2, 2]], shape = (4, 4), type = oper, isherm = False\\begin{equation*}\\left(\\begin{array}{*{11}c}1.000 & (-2.485\\times10^{-09}-4.791\\times10^{-07}j) & (-6.991\\times10^{-06}+4.250\\times10^{-05}j) & (-1.411\\times10^{-07}+1.318\\times10^{-07}j)\\\\(2.519\\times10^{-09}-4.793\\times10^{-07}j) & 1.000 & (1.753\\times10^{-06}+3.150\\times10^{-08}j) & (-7.116\\times10^{-06}-5.404\\times10^{-05}j)\\\\(6.986\\times10^{-06}+4.255\\times10^{-05}j) & (-8.741\\times10^{-07}+1.599\\times10^{-08}j) & 1.000 & (1.507\\times10^{-08}+4.859\\times10^{-07}j)\\\\(-1.742\\times10^{-08}-9.489\\times10^{-09}j) & (-9.905\\times10^{-06}+5.370\\times10^{-05}j) & (3.823\\times10^{-08}-4.849\\times10^{-07}j) & (-0.997-0.049j)\\\\\\end{array}\\right)\\end{equation*}"
      ],
      "text/plain": [
       "Quantum object: dims = [[2, 2], [2, 2]], shape = (4, 4), type = oper, isherm = False\n",
       "Qobj data =\n",
       "[[ 9.99999118e-01+0.00000000e+00j -2.48462069e-09-4.79136300e-07j\n",
       "  -6.99140034e-06+4.24988749e-05j -1.41140125e-07+1.31809343e-07j]\n",
       " [ 2.51872021e-09-4.79256819e-07j  9.99997718e-01+0.00000000e+00j\n",
       "   1.75319619e-06+3.15000494e-08j -7.11620187e-06-5.40373028e-05j]\n",
       " [ 6.98641123e-06+4.25459957e-05j -8.74064008e-07+1.59877812e-08j\n",
       "   9.99902549e-01+0.00000000e+00j  1.50711775e-08+4.85864885e-07j]\n",
       " [-1.74168843e-08-9.48896012e-09j -9.90466051e-06+5.37049387e-05j\n",
       "   3.82252367e-08-4.84907310e-07j -9.96961064e-01-4.93184143e-02j]]"
      ]
     },
     "execution_count": 1439,
     "metadata": {},
     "output_type": "execute_result"
    }
   ],
   "source": [
    "Uc_reshaped = qt.Qobj(Uc.data, dims = [[2,2],[2,2]])\n",
    "Ucprime = remove_global_phase(Uc_reshaped*Uz)\n",
    "Ucprime"
   ]
  },
  {
   "cell_type": "code",
   "execution_count": 1440,
   "metadata": {},
   "outputs": [
    {
     "data": {
      "text/plain": [
       "(0.9968417324797422+0.03685678182936908j)"
      ]
     },
     "execution_count": 1440,
     "metadata": {},
     "output_type": "execute_result"
    }
   ],
   "source": [
    "qt.metrics.process_fidelity(Ucprime, cz_gate())"
   ]
  }
 ],
 "metadata": {
  "kernelspec": {
   "display_name": "Python 3.10.6 ('qutip')",
   "language": "python",
   "name": "python3"
  },
  "language_info": {
   "codemirror_mode": {
    "name": "ipython",
    "version": 3
   },
   "file_extension": ".py",
   "mimetype": "text/x-python",
   "name": "python",
   "nbconvert_exporter": "python",
   "pygments_lexer": "ipython3",
   "version": "3.10.6"
  },
  "orig_nbformat": 4,
  "vscode": {
   "interpreter": {
    "hash": "0e780daff9f02e9c27a6f6b4813f5cce4937082c7e6f63d4ffbf2ffa7a95710a"
   }
  }
 },
 "nbformat": 4,
 "nbformat_minor": 2
}
