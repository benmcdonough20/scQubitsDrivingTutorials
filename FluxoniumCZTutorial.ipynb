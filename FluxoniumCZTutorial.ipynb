{
 "cells": [
  {
   "attachments": {},
   "cell_type": "markdown",
   "metadata": {},
   "source": [
    "# Fluxonium CZ gate tutorial\n",
    "\n",
    "B. McDonough\n",
    "\n",
    "This notebook provides a tutorial using scQubits to simulate the CZ-gate on a coupled pair of fluxonium qubits described by Nesterov et al. in [Microwave-Activated Controlled-Z Gate for Fixed-Frequency Fluxonium Qubits.](https://arxiv.org/abs/1802.03095)"
   ]
  },
  {
   "attachments": {},
   "cell_type": "markdown",
   "metadata": {},
   "source": [
    "Capacitive coupling of two fluxonium qubits $A$ and $B$ results in the addition of the term $g \\hat n_A \\hat n_B$ to the Hamiltonian. This coupling shifts the energy levels so that the $\\omega_{01\\to 02}$ transition frequency is detuned from the $\\omega_{11 \\to 12}$ transition frequency. This allows the $\\ket{11} \\to \\ket{12}$ transition to be driven without causing leakage from other states in the computational space. Following Nesterov et al., we consider a drive on only qubit $B$, which is expressed as the term $f(t)\\cos(\\omega_d t)\\hat n_B$ added to the Hamiltonian.\n",
    "\n",
    "Driving the $\\ket{11}\\to\\ket{12}$ transition for a full period causes the $\\ket{11}$ state to aquire a phase of $e^{i\\pi}=-1$, without affecting the other states in the computational subspace. This results in the application of $CZ = \\operatorname{diag}(1,1,1,-1)$ up to single-qubit $Z$ gates.\n",
    "\n",
    "The Hamiltonian of the two coupled fluxonia and the drive is\n",
    "$$\n",
    "H = 4E_{CA}\\hat n_A - E_{JA}\\cos(\\hat \\phi_A-\\pi) + \\frac{1}{2} E_{LA}\\hat \\phi_A^2\n",
    "+ g\\hat n_A\\hat n_B + 4E_{CB}\\hat n_B - E_{JB}\\cos(\\hat \\phi_B-\\pi) + \\frac{1}{2}E_{LB}\\hat \\phi_B^2 + f(t)\\cos(w_dt)\\hat n_B\n",
    "$$"
   ]
  },
  {
   "cell_type": "code",
   "execution_count": 49,
   "metadata": {},
   "outputs": [],
   "source": [
    "import sys\n",
    "import scqubits as scq"
   ]
  },
  {
   "cell_type": "code",
   "execution_count": 50,
   "metadata": {},
   "outputs": [],
   "source": [
    "#import scqubits as scq\n",
    "import qutip as qt\n",
    "import numpy as np\n",
    "from matplotlib import pyplot as plt\n",
    "from qutip.qip.operations import rz, cz_gate\n",
    "import cmath\n",
    "\n",
    "# experimental values borrowed from\n",
    "# [https://arxiv.org/abs/1802.03095]\n",
    "qbta = scq.Fluxonium(\n",
    "    EC=1.5,\n",
    "    EJ=5.5,\n",
    "    EL=1.0,\n",
    "    flux=0.5,  # flux frustration point\n",
    "    cutoff=110,\n",
    "    truncated_dim=10,\n",
    ")\n",
    "\n",
    "qbtb = scq.Fluxonium(EC=1.2, EJ=5.7, EL=1.0, flux=0.5, cutoff=110, truncated_dim=10)\n",
    "\n",
    "hilbertspace = scq.HilbertSpace([qbta, qbtb])\n",
    "\n",
    "hilbertspace.add_interaction(\n",
    "    g_strength=0.15,\n",
    "    op1=qbta.n_operator,\n",
    "    op2=qbtb.n_operator,\n",
    ")\n",
    "\n",
    "hilbertspace.generate_lookup()"
   ]
  },
  {
   "cell_type": "markdown",
   "metadata": {},
   "source": [
    "## Drive simulation functions"
   ]
  },
  {
   "cell_type": "code",
   "execution_count": 51,
   "metadata": {},
   "outputs": [],
   "source": [
    "# get the transition frequency between two states specified by dressed indices\n",
    "def transition_frequency(s0: int, s1: int) -> float:\n",
    "    return (\n",
    "        (\n",
    "            hilbertspace.energy_by_dressed_index(s1)\n",
    "            - hilbertspace.energy_by_dressed_index(s0)\n",
    "        )\n",
    "        * 2\n",
    "        * np.pi\n",
    "    )"
   ]
  },
  {
   "cell_type": "markdown",
   "metadata": {},
   "source": [
    "## Truncation\n",
    "As discussed in `FluxoniumResetTutorial.ipynb`, the operators in the dressed eigenbasis can be trunctated after digonalization."
   ]
  },
  {
   "cell_type": "code",
   "execution_count": 52,
   "metadata": {},
   "outputs": [],
   "source": [
    "# The matrix representations can be truncated further for the simulation\n",
    "total_truncation = 20\n",
    "\n",
    "# truncate operators to desdired dimension\n",
    "def truncate(operator: qt.Qobj, dimension: int) -> qt.Qobj:\n",
    "    return qt.Qobj(operator[:dimension, :dimension])"
   ]
  },
  {
   "cell_type": "markdown",
   "metadata": {},
   "source": [
    "## States and operators "
   ]
  },
  {
   "cell_type": "code",
   "execution_count": 53,
   "metadata": {},
   "outputs": [],
   "source": [
    "#get the representation of the n_b operator in the dressed eigenbasis of the composite system\n",
    "n_b = hilbertspace.op_in_dressed_eigenbasis(op=qbtb.n_operator)\n",
    "#truncate the operator after expressing in the dressed basis to speed up the simulation\n",
    "n_b = truncate(n_b, total_truncation)"
   ]
  },
  {
   "cell_type": "code",
   "execution_count": 85,
   "metadata": {},
   "outputs": [],
   "source": [
    "# convert the product states to the closes eigenstates of the dressed system\n",
    "product_states = [(0, 0), (1, 0), (0,1), (1, 1), (2, 1)]\n",
    "idxs = [hilbertspace.dressed_index((s1, s2)) for (s1, s2) in product_states]\n",
    "states = [qt.basis(total_truncation, idx) for idx in idxs]\n",
    "\n",
    "# The computational subspace is spanned by the first 4 states\n",
    "computational_subspace = states[:4]"
   ]
  },
  {
   "attachments": {},
   "cell_type": "markdown",
   "metadata": {},
   "source": [
    "## Units\n",
    "scQubits reports energies in units of frequency. To transform into radial frequencies, the energies, and likewise the drive operators, need to be multiplied by $2\\pi$."
   ]
  },
  {
   "cell_type": "code",
   "execution_count": 97,
   "metadata": {},
   "outputs": [],
   "source": [
    "omega_1112 = transition_frequency(idxs[3], idxs[4])\n",
    "\n",
    "# Gaussian pulse parameters optimized by hand\n",
    "A = 0.022\n",
    "tg = 100\n",
    "\n",
    "#Gaussian pulse envelope\n",
    "def drive_coeff(t: float, args: dict) -> float:\n",
    "    return A * np.exp(-8 * t * (t - tg) / tg**2) * np.cos(omega_1112 * t)\n",
    "\n",
    "# Hamiltonian in dressed eigenbasis\n",
    "(evals,) = hilbertspace[\"evals\"]\n",
    "# The factor of 2pi converts the energy to GHz so that the time is in units of ns\n",
    "diag_dressed_hamiltonian = (\n",
    "    2 * np.pi * qt.Qobj(np.diag(evals), dims=[hilbertspace.subsystem_dims] * 2)\n",
    ")\n",
    "diag_dressed_hamiltonian_trunc = truncate(diag_dressed_hamiltonian, total_truncation)\n",
    "\n",
    "# time-dependent drive Hamiltonian\n",
    "H_qbt_drive = [\n",
    "    diag_dressed_hamiltonian_trunc,\n",
    "    [2 * np.pi * n_b, drive_coeff],  # driving through the resonator\n",
    "]"
   ]
  },
  {
   "cell_type": "markdown",
   "metadata": {},
   "source": [
    "## Drive Visualization"
   ]
  },
  {
   "cell_type": "code",
   "execution_count": 104,
   "metadata": {},
   "outputs": [
    {
     "data": {
      "text/plain": [
       "Text(0.5, 0, 't (ns)')"
      ]
     },
     "execution_count": 104,
     "metadata": {},
     "output_type": "execute_result"
    },
    {
     "data": {
      "application/pdf": "[encoded data removed]",
      "image/svg+xml": "<?xml version=\"1.0\" encoding=\"utf-8\" standalone=\"no\"?>\n<!DOCTYPE svg PUBLIC \"-//W3C//DTD SVG 1.1//EN\"\n  \"http://www.w3.org/Graphics/SVG/1.1/DTD/svg11.dtd\">\n<svg xmlns:xlink=\"http://www.w3.org/1999/xlink\" width=\"409.069062pt\" height=\"311.836062pt\" viewBox=\"0 0 409.069062 311.836062\" xmlns=\"http://www.w3.org/2000/svg\" version=\"1.1\">\n <metadata>\n  <rdf:RDF xmlns:dc=\"http://purl.org/dc/elements/1.1/\" xmlns:cc=\"http://creativecommons.org/ns#\" xmlns:rdf=\"http://www.w3.org/1999/02/22-rdf-syntax-ns#\">\n   <cc:Work>\n    <dc:type rdf:resource=\"http://purl.org/dc/dcmitype/StillImage\"/>\n    <dc:date>2023-03-03T00:13:55.502584</dc:date>\n    <dc:format>image/svg+xml</dc:format>\n    <dc:creator>\n     <cc:Agent>\n      <dc:title>Matplotlib v3.5.2, https://matplotlib.org/</dc:title>\n     </cc:Agent>\n    </dc:creator>\n   </cc:Work>\n  </rdf:RDF>\n </metadata>\n <defs>\n  <style type=\"text/css\">*{stroke-linejoin: round; stroke-linecap: butt}</style>\n </defs>\n <g id=\"figure_1\">\n  <g id=\"patch_1\">\n   <path d=\"M 0 311.836062 \nL 409.069062 311.836062 \nL 409.069062 0 \nL 0 0 \nz\n\" style=\"fill: #ffffff\"/>\n  </g>\n  <g id=\"axes_1\">\n   <g id=\"patch_2\">\n    <path d=\"M 44.749063 273.312 \nL 401.869063 273.312 \nL 401.869063 7.2 \nL 44.749063 7.2 \nz\n\" style=\"fill: #ffffff\"/>\n   </g>\n   <g id=\"matplotlib.axis_1\">\n    <g id=\"xtick_1\">\n     <g id=\"line2d_1\">\n      <defs>\n       <path id=\"mfd36bf39aa\" d=\"M 0 0 \nL 0 3.5 \n\" style=\"stroke: #000000; stroke-width: 0.8\"/>\n      </defs>\n      <g>\n       <use xlink:href=\"#mfd36bf39aa\" x=\"60.98179\" y=\"273.312\" style=\"stroke: #000000; stroke-width: 0.8\"/>\n      </g>\n     </g>\n     <g id=\"text_1\">\n      <!-- 0 -->\n      <g transform=\"translate(57.80054 287.910437)scale(0.1 -0.1)\">\n       <defs>\n        <path id=\"DejaVuSans-30\" d=\"M 2034 4250 \nQ 1547 4250 1301 3770 \nQ 1056 3291 1056 2328 \nQ 1056 1369 1301 889 \nQ 1547 409 2034 409 \nQ 2525 409 2770 889 \nQ 3016 1369 3016 2328 \nQ 3016 3291 2770 3770 \nQ 2525 4250 2034 4250 \nz\nM 2034 4750 \nQ 2819 4750 3233 4129 \nQ 3647 3509 3647 2328 \nQ 3647 1150 3233 529 \nQ 2819 -91 2034 -91 \nQ 1250 -91 836 529 \nQ 422 1150 422 2328 \nQ 422 3509 836 4129 \nQ 1250 4750 2034 4750 \nz\n\" transform=\"scale(0.015625)\"/>\n       </defs>\n       <use xlink:href=\"#DejaVuSans-30\"/>\n      </g>\n     </g>\n    </g>\n    <g id=\"xtick_2\">\n     <g id=\"line2d_2\">\n      <g>\n       <use xlink:href=\"#mfd36bf39aa\" x=\"115.090881\" y=\"273.312\" style=\"stroke: #000000; stroke-width: 0.8\"/>\n      </g>\n     </g>\n     <g id=\"text_2\">\n      <!-- 20 -->\n      <g transform=\"translate(108.728381 287.910437)scale(0.1 -0.1)\">\n       <defs>\n        <path id=\"DejaVuSans-32\" d=\"M 1228 531 \nL 3431 531 \nL 3431 0 \nL 469 0 \nL 469 531 \nQ 828 903 1448 1529 \nQ 2069 2156 2228 2338 \nQ 2531 2678 2651 2914 \nQ 2772 3150 2772 3378 \nQ 2772 3750 2511 3984 \nQ 2250 4219 1831 4219 \nQ 1534 4219 1204 4116 \nQ 875 4013 500 3803 \nL 500 4441 \nQ 881 4594 1212 4672 \nQ 1544 4750 1819 4750 \nQ 2544 4750 2975 4387 \nQ 3406 4025 3406 3419 \nQ 3406 3131 3298 2873 \nQ 3191 2616 2906 2266 \nQ 2828 2175 2409 1742 \nQ 1991 1309 1228 531 \nz\n\" transform=\"scale(0.015625)\"/>\n       </defs>\n       <use xlink:href=\"#DejaVuSans-32\"/>\n       <use xlink:href=\"#DejaVuSans-30\" x=\"63.623047\"/>\n      </g>\n     </g>\n    </g>\n    <g id=\"xtick_3\">\n     <g id=\"line2d_3\">\n      <g>\n       <use xlink:href=\"#mfd36bf39aa\" x=\"169.199972\" y=\"273.312\" style=\"stroke: #000000; stroke-width: 0.8\"/>\n      </g>\n     </g>\n     <g id=\"text_3\">\n      <!-- 40 -->\n      <g transform=\"translate(162.837472 287.910437)scale(0.1 -0.1)\">\n       <defs>\n        <path id=\"DejaVuSans-34\" d=\"M 2419 4116 \nL 825 1625 \nL 2419 1625 \nL 2419 4116 \nz\nM 2253 4666 \nL 3047 4666 \nL 3047 1625 \nL 3713 1625 \nL 3713 1100 \nL 3047 1100 \nL 3047 0 \nL 2419 0 \nL 2419 1100 \nL 313 1100 \nL 313 1709 \nL 2253 4666 \nz\n\" transform=\"scale(0.015625)\"/>\n       </defs>\n       <use xlink:href=\"#DejaVuSans-34\"/>\n       <use xlink:href=\"#DejaVuSans-30\" x=\"63.623047\"/>\n      </g>\n     </g>\n    </g>\n    <g id=\"xtick_4\">\n     <g id=\"line2d_4\">\n      <g>\n       <use xlink:href=\"#mfd36bf39aa\" x=\"223.309063\" y=\"273.312\" style=\"stroke: #000000; stroke-width: 0.8\"/>\n      </g>\n     </g>\n     <g id=\"text_4\">\n      <!-- 60 -->\n      <g transform=\"translate(216.946563 287.910437)scale(0.1 -0.1)\">\n       <defs>\n        <path id=\"DejaVuSans-36\" d=\"M 2113 2584 \nQ 1688 2584 1439 2293 \nQ 1191 2003 1191 1497 \nQ 1191 994 1439 701 \nQ 1688 409 2113 409 \nQ 2538 409 2786 701 \nQ 3034 994 3034 1497 \nQ 3034 2003 2786 2293 \nQ 2538 2584 2113 2584 \nz\nM 3366 4563 \nL 3366 3988 \nQ 3128 4100 2886 4159 \nQ 2644 4219 2406 4219 \nQ 1781 4219 1451 3797 \nQ 1122 3375 1075 2522 \nQ 1259 2794 1537 2939 \nQ 1816 3084 2150 3084 \nQ 2853 3084 3261 2657 \nQ 3669 2231 3669 1497 \nQ 3669 778 3244 343 \nQ 2819 -91 2113 -91 \nQ 1303 -91 875 529 \nQ 447 1150 447 2328 \nQ 447 3434 972 4092 \nQ 1497 4750 2381 4750 \nQ 2619 4750 2861 4703 \nQ 3103 4656 3366 4563 \nz\n\" transform=\"scale(0.015625)\"/>\n       </defs>\n       <use xlink:href=\"#DejaVuSans-36\"/>\n       <use xlink:href=\"#DejaVuSans-30\" x=\"63.623047\"/>\n      </g>\n     </g>\n    </g>\n    <g id=\"xtick_5\">\n     <g id=\"line2d_5\">\n      <g>\n       <use xlink:href=\"#mfd36bf39aa\" x=\"277.418153\" y=\"273.312\" style=\"stroke: #000000; stroke-width: 0.8\"/>\n      </g>\n     </g>\n     <g id=\"text_5\">\n      <!-- 80 -->\n      <g transform=\"translate(271.055653 287.910437)scale(0.1 -0.1)\">\n       <defs>\n        <path id=\"DejaVuSans-38\" d=\"M 2034 2216 \nQ 1584 2216 1326 1975 \nQ 1069 1734 1069 1313 \nQ 1069 891 1326 650 \nQ 1584 409 2034 409 \nQ 2484 409 2743 651 \nQ 3003 894 3003 1313 \nQ 3003 1734 2745 1975 \nQ 2488 2216 2034 2216 \nz\nM 1403 2484 \nQ 997 2584 770 2862 \nQ 544 3141 544 3541 \nQ 544 4100 942 4425 \nQ 1341 4750 2034 4750 \nQ 2731 4750 3128 4425 \nQ 3525 4100 3525 3541 \nQ 3525 3141 3298 2862 \nQ 3072 2584 2669 2484 \nQ 3125 2378 3379 2068 \nQ 3634 1759 3634 1313 \nQ 3634 634 3220 271 \nQ 2806 -91 2034 -91 \nQ 1263 -91 848 271 \nQ 434 634 434 1313 \nQ 434 1759 690 2068 \nQ 947 2378 1403 2484 \nz\nM 1172 3481 \nQ 1172 3119 1398 2916 \nQ 1625 2713 2034 2713 \nQ 2441 2713 2670 2916 \nQ 2900 3119 2900 3481 \nQ 2900 3844 2670 4047 \nQ 2441 4250 2034 4250 \nQ 1625 4250 1398 4047 \nQ 1172 3844 1172 3481 \nz\n\" transform=\"scale(0.015625)\"/>\n       </defs>\n       <use xlink:href=\"#DejaVuSans-38\"/>\n       <use xlink:href=\"#DejaVuSans-30\" x=\"63.623047\"/>\n      </g>\n     </g>\n    </g>\n    <g id=\"xtick_6\">\n     <g id=\"line2d_6\">\n      <g>\n       <use xlink:href=\"#mfd36bf39aa\" x=\"331.527244\" y=\"273.312\" style=\"stroke: #000000; stroke-width: 0.8\"/>\n      </g>\n     </g>\n     <g id=\"text_6\">\n      <!-- 100 -->\n      <g transform=\"translate(321.983494 287.910437)scale(0.1 -0.1)\">\n       <defs>\n        <path id=\"DejaVuSans-31\" d=\"M 794 531 \nL 1825 531 \nL 1825 4091 \nL 703 3866 \nL 703 4441 \nL 1819 4666 \nL 2450 4666 \nL 2450 531 \nL 3481 531 \nL 3481 0 \nL 794 0 \nL 794 531 \nz\n\" transform=\"scale(0.015625)\"/>\n       </defs>\n       <use xlink:href=\"#DejaVuSans-31\"/>\n       <use xlink:href=\"#DejaVuSans-30\" x=\"63.623047\"/>\n       <use xlink:href=\"#DejaVuSans-30\" x=\"127.246094\"/>\n      </g>\n     </g>\n    </g>\n    <g id=\"xtick_7\">\n     <g id=\"line2d_7\">\n      <g>\n       <use xlink:href=\"#mfd36bf39aa\" x=\"385.636335\" y=\"273.312\" style=\"stroke: #000000; stroke-width: 0.8\"/>\n      </g>\n     </g>\n     <g id=\"text_7\">\n      <!-- 120 -->\n      <g transform=\"translate(376.092585 287.910437)scale(0.1 -0.1)\">\n       <use xlink:href=\"#DejaVuSans-31\"/>\n       <use xlink:href=\"#DejaVuSans-32\" x=\"63.623047\"/>\n       <use xlink:href=\"#DejaVuSans-30\" x=\"127.246094\"/>\n      </g>\n     </g>\n    </g>\n    <g id=\"text_8\">\n     <!-- t (ns) -->\n     <g transform=\"translate(208.762422 302.348406)scale(0.11 -0.11)\">\n      <defs>\n       <path id=\"DejaVuSans-74\" d=\"M 1172 4494 \nL 1172 3500 \nL 2356 3500 \nL 2356 3053 \nL 1172 3053 \nL 1172 1153 \nQ 1172 725 1289 603 \nQ 1406 481 1766 481 \nL 2356 481 \nL 2356 0 \nL 1766 0 \nQ 1100 0 847 248 \nQ 594 497 594 1153 \nL 594 3053 \nL 172 3053 \nL 172 3500 \nL 594 3500 \nL 594 4494 \nL 1172 4494 \nz\n\" transform=\"scale(0.015625)\"/>\n       <path id=\"DejaVuSans-20\" transform=\"scale(0.015625)\"/>\n       <path id=\"DejaVuSans-28\" d=\"M 1984 4856 \nQ 1566 4138 1362 3434 \nQ 1159 2731 1159 2009 \nQ 1159 1288 1364 580 \nQ 1569 -128 1984 -844 \nL 1484 -844 \nQ 1016 -109 783 600 \nQ 550 1309 550 2009 \nQ 550 2706 781 3412 \nQ 1013 4119 1484 4856 \nL 1984 4856 \nz\n\" transform=\"scale(0.015625)\"/>\n       <path id=\"DejaVuSans-6e\" d=\"M 3513 2113 \nL 3513 0 \nL 2938 0 \nL 2938 2094 \nQ 2938 2591 2744 2837 \nQ 2550 3084 2163 3084 \nQ 1697 3084 1428 2787 \nQ 1159 2491 1159 1978 \nL 1159 0 \nL 581 0 \nL 581 3500 \nL 1159 3500 \nL 1159 2956 \nQ 1366 3272 1645 3428 \nQ 1925 3584 2291 3584 \nQ 2894 3584 3203 3211 \nQ 3513 2838 3513 2113 \nz\n\" transform=\"scale(0.015625)\"/>\n       <path id=\"DejaVuSans-73\" d=\"M 2834 3397 \nL 2834 2853 \nQ 2591 2978 2328 3040 \nQ 2066 3103 1784 3103 \nQ 1356 3103 1142 2972 \nQ 928 2841 928 2578 \nQ 928 2378 1081 2264 \nQ 1234 2150 1697 2047 \nL 1894 2003 \nQ 2506 1872 2764 1633 \nQ 3022 1394 3022 966 \nQ 3022 478 2636 193 \nQ 2250 -91 1575 -91 \nQ 1294 -91 989 -36 \nQ 684 19 347 128 \nL 347 722 \nQ 666 556 975 473 \nQ 1284 391 1588 391 \nQ 1994 391 2212 530 \nQ 2431 669 2431 922 \nQ 2431 1156 2273 1281 \nQ 2116 1406 1581 1522 \nL 1381 1569 \nQ 847 1681 609 1914 \nQ 372 2147 372 2553 \nQ 372 3047 722 3315 \nQ 1072 3584 1716 3584 \nQ 2034 3584 2315 3537 \nQ 2597 3491 2834 3397 \nz\n\" transform=\"scale(0.015625)\"/>\n       <path id=\"DejaVuSans-29\" d=\"M 513 4856 \nL 1013 4856 \nQ 1481 4119 1714 3412 \nQ 1947 2706 1947 2009 \nQ 1947 1309 1714 600 \nQ 1481 -109 1013 -844 \nL 513 -844 \nQ 928 -128 1133 580 \nQ 1338 1288 1338 2009 \nQ 1338 2731 1133 3434 \nQ 928 4138 513 4856 \nz\n\" transform=\"scale(0.015625)\"/>\n      </defs>\n      <use xlink:href=\"#DejaVuSans-74\"/>\n      <use xlink:href=\"#DejaVuSans-20\" x=\"39.208984\"/>\n      <use xlink:href=\"#DejaVuSans-28\" x=\"70.996094\"/>\n      <use xlink:href=\"#DejaVuSans-6e\" x=\"110.009766\"/>\n      <use xlink:href=\"#DejaVuSans-73\" x=\"173.388672\"/>\n      <use xlink:href=\"#DejaVuSans-29\" x=\"225.488281\"/>\n     </g>\n    </g>\n   </g>\n   <g id=\"matplotlib.axis_2\">\n    <g id=\"ytick_1\">\n     <g id=\"line2d_8\">\n      <defs>\n       <path id=\"m6ffd03bf4b\" d=\"M 0 0 \nL -3.5 0 \n\" style=\"stroke: #000000; stroke-width: 0.8\"/>\n      </defs>\n      <g>\n       <use xlink:href=\"#m6ffd03bf4b\" x=\"44.749063\" y=\"261.216\" style=\"stroke: #000000; stroke-width: 0.8\"/>\n      </g>\n     </g>\n     <g id=\"text_9\">\n      <!-- 0.0 -->\n      <g transform=\"translate(21.845938 265.015219)scale(0.1 -0.1)\">\n       <defs>\n        <path id=\"DejaVuSans-2e\" d=\"M 684 794 \nL 1344 794 \nL 1344 0 \nL 684 0 \nL 684 794 \nz\n\" transform=\"scale(0.015625)\"/>\n       </defs>\n       <use xlink:href=\"#DejaVuSans-30\"/>\n       <use xlink:href=\"#DejaVuSans-2e\" x=\"63.623047\"/>\n       <use xlink:href=\"#DejaVuSans-30\" x=\"95.410156\"/>\n      </g>\n     </g>\n    </g>\n    <g id=\"ytick_2\">\n     <g id=\"line2d_9\">\n      <g>\n       <use xlink:href=\"#m6ffd03bf4b\" x=\"44.749063\" y=\"212.832\" style=\"stroke: #000000; stroke-width: 0.8\"/>\n      </g>\n     </g>\n     <g id=\"text_10\">\n      <!-- 0.2 -->\n      <g transform=\"translate(21.845938 216.631219)scale(0.1 -0.1)\">\n       <use xlink:href=\"#DejaVuSans-30\"/>\n       <use xlink:href=\"#DejaVuSans-2e\" x=\"63.623047\"/>\n       <use xlink:href=\"#DejaVuSans-32\" x=\"95.410156\"/>\n      </g>\n     </g>\n    </g>\n    <g id=\"ytick_3\">\n     <g id=\"line2d_10\">\n      <g>\n       <use xlink:href=\"#m6ffd03bf4b\" x=\"44.749063\" y=\"164.448\" style=\"stroke: #000000; stroke-width: 0.8\"/>\n      </g>\n     </g>\n     <g id=\"text_11\">\n      <!-- 0.4 -->\n      <g transform=\"translate(21.845938 168.247219)scale(0.1 -0.1)\">\n       <use xlink:href=\"#DejaVuSans-30\"/>\n       <use xlink:href=\"#DejaVuSans-2e\" x=\"63.623047\"/>\n       <use xlink:href=\"#DejaVuSans-34\" x=\"95.410156\"/>\n      </g>\n     </g>\n    </g>\n    <g id=\"ytick_4\">\n     <g id=\"line2d_11\">\n      <g>\n       <use xlink:href=\"#m6ffd03bf4b\" x=\"44.749063\" y=\"116.064\" style=\"stroke: #000000; stroke-width: 0.8\"/>\n      </g>\n     </g>\n     <g id=\"text_12\">\n      <!-- 0.6 -->\n      <g transform=\"translate(21.845938 119.863219)scale(0.1 -0.1)\">\n       <use xlink:href=\"#DejaVuSans-30\"/>\n       <use xlink:href=\"#DejaVuSans-2e\" x=\"63.623047\"/>\n       <use xlink:href=\"#DejaVuSans-36\" x=\"95.410156\"/>\n      </g>\n     </g>\n    </g>\n    <g id=\"ytick_5\">\n     <g id=\"line2d_12\">\n      <g>\n       <use xlink:href=\"#m6ffd03bf4b\" x=\"44.749063\" y=\"67.68\" style=\"stroke: #000000; stroke-width: 0.8\"/>\n      </g>\n     </g>\n     <g id=\"text_13\">\n      <!-- 0.8 -->\n      <g transform=\"translate(21.845938 71.479219)scale(0.1 -0.1)\">\n       <use xlink:href=\"#DejaVuSans-30\"/>\n       <use xlink:href=\"#DejaVuSans-2e\" x=\"63.623047\"/>\n       <use xlink:href=\"#DejaVuSans-38\" x=\"95.410156\"/>\n      </g>\n     </g>\n    </g>\n    <g id=\"ytick_6\">\n     <g id=\"line2d_13\">\n      <g>\n       <use xlink:href=\"#m6ffd03bf4b\" x=\"44.749063\" y=\"19.296\" style=\"stroke: #000000; stroke-width: 0.8\"/>\n      </g>\n     </g>\n     <g id=\"text_14\">\n      <!-- 1.0 -->\n      <g transform=\"translate(21.845938 23.095219)scale(0.1 -0.1)\">\n       <use xlink:href=\"#DejaVuSans-31\"/>\n       <use xlink:href=\"#DejaVuSans-2e\" x=\"63.623047\"/>\n       <use xlink:href=\"#DejaVuSans-30\" x=\"95.410156\"/>\n      </g>\n     </g>\n    </g>\n    <g id=\"text_15\">\n     <!-- population -->\n     <g transform=\"translate(15.558281 169.523734)rotate(-90)scale(0.11 -0.11)\">\n      <defs>\n       <path id=\"DejaVuSans-70\" d=\"M 1159 525 \nL 1159 -1331 \nL 581 -1331 \nL 581 3500 \nL 1159 3500 \nL 1159 2969 \nQ 1341 3281 1617 3432 \nQ 1894 3584 2278 3584 \nQ 2916 3584 3314 3078 \nQ 3713 2572 3713 1747 \nQ 3713 922 3314 415 \nQ 2916 -91 2278 -91 \nQ 1894 -91 1617 61 \nQ 1341 213 1159 525 \nz\nM 3116 1747 \nQ 3116 2381 2855 2742 \nQ 2594 3103 2138 3103 \nQ 1681 3103 1420 2742 \nQ 1159 2381 1159 1747 \nQ 1159 1113 1420 752 \nQ 1681 391 2138 391 \nQ 2594 391 2855 752 \nQ 3116 1113 3116 1747 \nz\n\" transform=\"scale(0.015625)\"/>\n       <path id=\"DejaVuSans-6f\" d=\"M 1959 3097 \nQ 1497 3097 1228 2736 \nQ 959 2375 959 1747 \nQ 959 1119 1226 758 \nQ 1494 397 1959 397 \nQ 2419 397 2687 759 \nQ 2956 1122 2956 1747 \nQ 2956 2369 2687 2733 \nQ 2419 3097 1959 3097 \nz\nM 1959 3584 \nQ 2709 3584 3137 3096 \nQ 3566 2609 3566 1747 \nQ 3566 888 3137 398 \nQ 2709 -91 1959 -91 \nQ 1206 -91 779 398 \nQ 353 888 353 1747 \nQ 353 2609 779 3096 \nQ 1206 3584 1959 3584 \nz\n\" transform=\"scale(0.015625)\"/>\n       <path id=\"DejaVuSans-75\" d=\"M 544 1381 \nL 544 3500 \nL 1119 3500 \nL 1119 1403 \nQ 1119 906 1312 657 \nQ 1506 409 1894 409 \nQ 2359 409 2629 706 \nQ 2900 1003 2900 1516 \nL 2900 3500 \nL 3475 3500 \nL 3475 0 \nL 2900 0 \nL 2900 538 \nQ 2691 219 2414 64 \nQ 2138 -91 1772 -91 \nQ 1169 -91 856 284 \nQ 544 659 544 1381 \nz\nM 1991 3584 \nL 1991 3584 \nz\n\" transform=\"scale(0.015625)\"/>\n       <path id=\"DejaVuSans-6c\" d=\"M 603 4863 \nL 1178 4863 \nL 1178 0 \nL 603 0 \nL 603 4863 \nz\n\" transform=\"scale(0.015625)\"/>\n       <path id=\"DejaVuSans-61\" d=\"M 2194 1759 \nQ 1497 1759 1228 1600 \nQ 959 1441 959 1056 \nQ 959 750 1161 570 \nQ 1363 391 1709 391 \nQ 2188 391 2477 730 \nQ 2766 1069 2766 1631 \nL 2766 1759 \nL 2194 1759 \nz\nM 3341 1997 \nL 3341 0 \nL 2766 0 \nL 2766 531 \nQ 2569 213 2275 61 \nQ 1981 -91 1556 -91 \nQ 1019 -91 701 211 \nQ 384 513 384 1019 \nQ 384 1609 779 1909 \nQ 1175 2209 1959 2209 \nL 2766 2209 \nL 2766 2266 \nQ 2766 2663 2505 2880 \nQ 2244 3097 1772 3097 \nQ 1472 3097 1187 3025 \nQ 903 2953 641 2809 \nL 641 3341 \nQ 956 3463 1253 3523 \nQ 1550 3584 1831 3584 \nQ 2591 3584 2966 3190 \nQ 3341 2797 3341 1997 \nz\n\" transform=\"scale(0.015625)\"/>\n       <path id=\"DejaVuSans-69\" d=\"M 603 3500 \nL 1178 3500 \nL 1178 0 \nL 603 0 \nL 603 3500 \nz\nM 603 4863 \nL 1178 4863 \nL 1178 4134 \nL 603 4134 \nL 603 4863 \nz\n\" transform=\"scale(0.015625)\"/>\n      </defs>\n      <use xlink:href=\"#DejaVuSans-70\"/>\n      <use xlink:href=\"#DejaVuSans-6f\" x=\"63.476562\"/>\n      <use xlink:href=\"#DejaVuSans-70\" x=\"124.658203\"/>\n      <use xlink:href=\"#DejaVuSans-75\" x=\"188.134766\"/>\n      <use xlink:href=\"#DejaVuSans-6c\" x=\"251.513672\"/>\n      <use xlink:href=\"#DejaVuSans-61\" x=\"279.296875\"/>\n      <use xlink:href=\"#DejaVuSans-74\" x=\"340.576172\"/>\n      <use xlink:href=\"#DejaVuSans-69\" x=\"379.785156\"/>\n      <use xlink:href=\"#DejaVuSans-6f\" x=\"407.568359\"/>\n      <use xlink:href=\"#DejaVuSans-6e\" x=\"468.75\"/>\n     </g>\n    </g>\n   </g>\n   <g id=\"line2d_14\">\n    <path d=\"M 60.98179 261.216 \nL 385.636335 261.216 \nL 385.636335 261.216 \n\" clip-path=\"url(#pa2d138dbf4)\" style=\"fill: none; stroke: #016e82; stroke-width: 1.5; stroke-linecap: square\"/>\n   </g>\n   <g id=\"line2d_15\">\n    <path d=\"M 60.98179 261.216 \nL 385.636335 261.215999 \nL 385.636335 261.215999 \n\" clip-path=\"url(#pa2d138dbf4)\" style=\"fill: none; stroke: #333795; stroke-width: 1.5; stroke-linecap: square\"/>\n   </g>\n   <g id=\"line2d_16\">\n    <path d=\"M 60.98179 261.216 \nL 385.636335 261.216 \nL 385.636335 261.216 \n\" clip-path=\"url(#pa2d138dbf4)\" style=\"fill: none; stroke: #2e5eac; stroke-width: 1.5; stroke-linecap: square\"/>\n   </g>\n   <g id=\"line2d_17\">\n    <path d=\"M 60.98179 19.296 \nL 62.61322 19.426692 \nL 65.876079 19.933712 \nL 67.507509 19.889912 \nL 70.770369 19.534434 \nL 72.401799 19.731085 \nL 75.664659 20.657663 \nL 77.296089 20.798585 \nL 80.558948 20.533396 \nL 82.190378 20.808549 \nL 85.453238 22.291854 \nL 87.084668 22.761838 \nL 90.347528 22.895139 \nL 91.978957 23.393301 \nL 93.610387 24.474214 \nL 95.241817 25.779746 \nL 96.873247 26.77584 \nL 98.504677 27.266077 \nL 100.136107 27.61252 \nL 101.767537 28.425756 \nL 103.398967 29.988059 \nL 105.030396 31.959496 \nL 106.661826 33.677855 \nL 108.293256 34.793498 \nL 109.924686 35.634099 \nL 111.556116 36.928277 \nL 113.187546 39.124218 \nL 116.450406 44.644165 \nL 118.081835 46.714868 \nL 119.713265 48.42207 \nL 121.344695 50.566006 \nL 122.976125 53.715771 \nL 126.238985 61.507389 \nL 127.870415 64.677979 \nL 129.501845 67.341403 \nL 131.133274 70.350682 \nL 132.764704 74.398732 \nL 136.027564 84.320704 \nL 137.658994 88.63629 \nL 139.290424 92.409361 \nL 140.921854 96.480554 \nL 142.553284 101.575071 \nL 145.816143 113.680068 \nL 147.447573 119.14382 \nL 150.710433 129.199325 \nL 152.341863 135.187825 \nL 155.604723 148.543255 \nL 157.236152 154.518751 \nL 160.499012 165.43454 \nL 162.130442 171.573939 \nL 165.393302 184.687249 \nL 167.024732 190.585126 \nL 170.287592 201.477565 \nL 175.181881 218.813075 \nL 176.813311 223.848938 \nL 180.076171 232.895274 \nL 183.339031 241.483653 \nL 184.97046 245.216266 \nL 186.60189 248.436433 \nL 188.23332 251.264432 \nL 189.86475 253.820243 \nL 191.49618 256.090151 \nL 193.12761 257.972747 \nL 194.75904 259.405353 \nL 196.39047 260.406248 \nL 198.021899 261.00929 \nL 199.653329 261.204323 \nL 201.284759 260.962986 \nL 202.916189 260.294642 \nL 204.547619 259.236497 \nL 206.179049 257.791497 \nL 207.810479 255.919441 \nL 209.441909 253.613442 \nL 211.073338 250.956376 \nL 212.704768 248.055691 \nL 214.336198 244.913873 \nL 215.967628 241.404187 \nL 217.599058 237.420599 \nL 222.493348 223.982785 \nL 224.124777 219.315763 \nL 225.756207 214.238763 \nL 235.544787 180.822058 \nL 240.439076 162.588987 \nL 245.333366 146.736554 \nL 248.596226 134.454121 \nL 250.227655 128.959191 \nL 255.121945 114.659598 \nL 258.384805 103.653761 \nL 260.016235 98.961818 \nL 261.647665 95.155862 \nL 263.279094 91.64156 \nL 264.910524 87.707448 \nL 268.173384 78.762239 \nL 269.804814 75.0312 \nL 271.436244 72.185764 \nL 273.067674 69.68034 \nL 274.699104 66.797119 \nL 277.961963 59.766577 \nL 279.593393 56.796868 \nL 281.224823 54.660395 \nL 282.856253 52.937819 \nL 284.487683 50.972456 \nL 289.381973 43.678274 \nL 291.013402 42.233643 \nL 292.644832 41.220935 \nL 294.276262 40.055625 \nL 295.907692 38.421676 \nL 297.539122 36.541081 \nL 299.170552 34.934333 \nL 300.801982 33.921187 \nL 304.064841 32.697932 \nL 305.696271 31.678097 \nL 308.959131 29.191955 \nL 310.590561 28.453653 \nL 313.853421 27.801547 \nL 315.484851 27.222688 \nL 318.74771 25.553808 \nL 320.37914 25.043612 \nL 325.27343 24.486777 \nL 330.167719 22.984928 \nL 331.799149 22.862828 \nL 335.062009 22.741093 \nL 339.956299 21.74904 \nL 341.587729 21.655008 \nL 344.850588 21.651016 \nL 348.113448 21.22579 \nL 349.744878 21.01563 \nL 353.007738 20.973132 \nL 356.270597 20.914114 \nL 361.164887 20.525524 \nL 366.059177 20.54311 \nL 370.953466 20.282721 \nL 377.479186 20.256651 \nL 382.373475 20.136831 \nL 385.636335 20.165528 \nL 385.636335 20.165528 \n\" clip-path=\"url(#pa2d138dbf4)\" style=\"fill: none; stroke: #4498d3; stroke-width: 1.5; stroke-linecap: square\"/>\n   </g>\n   <g id=\"line2d_18\">\n    <path d=\"M 60.98179 261.216 \nL 67.507509 261.129973 \nL 74.033229 260.804437 \nL 78.927518 260.327009 \nL 82.190378 259.854999 \nL 85.453238 259.218826 \nL 88.716098 258.403373 \nL 91.978957 257.370596 \nL 95.241817 256.059344 \nL 98.504677 254.486955 \nL 101.767537 252.61278 \nL 105.030396 250.289065 \nL 108.293256 247.573241 \nL 111.556116 244.440368 \nL 113.187546 242.606987 \nL 116.450406 238.416603 \nL 119.713265 233.851757 \nL 121.344695 231.357181 \nL 122.976125 228.595758 \nL 126.238985 222.375642 \nL 131.133274 212.55898 \nL 132.764704 208.790681 \nL 136.027564 200.194366 \nL 140.921854 187.171078 \nL 142.553284 182.277072 \nL 149.079003 160.657552 \nL 150.710433 155.616187 \nL 152.341863 150.012543 \nL 157.236152 131.23765 \nL 160.499012 120.907721 \nL 162.130442 115.076989 \nL 167.024732 95.154806 \nL 171.919021 79.963548 \nL 175.181881 67.012718 \nL 176.813311 61.906027 \nL 178.444741 58.394757 \nL 180.076171 55.332262 \nL 181.707601 51.318564 \nL 184.97046 41.21512 \nL 186.60189 37.93777 \nL 188.23332 36.473877 \nL 189.86475 35.391816 \nL 191.49618 33.145625 \nL 193.12761 29.695953 \nL 194.75904 26.606643 \nL 196.39047 25.475029 \nL 198.021899 26.303564 \nL 199.653329 27.511787 \nL 201.284759 27.588613 \nL 202.916189 26.666122 \nL 204.547619 26.375119 \nL 206.179049 28.140493 \nL 209.441909 35.360493 \nL 211.073338 37.740255 \nL 212.704768 39.114579 \nL 214.336198 41.072925 \nL 215.967628 44.852144 \nL 219.230488 55.27143 \nL 220.861918 59.241307 \nL 222.493348 62.359832 \nL 224.124777 66.025824 \nL 225.756207 71.230547 \nL 229.019067 83.852321 \nL 230.650497 89.084461 \nL 232.281927 93.605071 \nL 233.913357 98.493689 \nL 235.544787 104.455255 \nL 238.807646 117.539067 \nL 240.439076 122.996798 \nL 243.701936 132.675815 \nL 245.333366 138.265926 \nL 248.596226 150.152767 \nL 250.227655 155.284184 \nL 253.490515 164.444314 \nL 260.016235 184.106051 \nL 268.173384 203.894599 \nL 269.804814 207.375532 \nL 273.067674 213.411063 \nL 277.961963 222.197736 \nL 279.593393 224.809797 \nL 282.856253 229.342231 \nL 287.750543 235.603166 \nL 289.381973 237.445254 \nL 292.644832 240.597365 \nL 295.907692 243.41559 \nL 299.170552 245.950824 \nL 302.433412 248.034197 \nL 307.327701 250.71811 \nL 310.590561 252.231365 \nL 313.853421 253.483523 \nL 318.74771 255.082795 \nL 322.01057 255.933612 \nL 326.90486 256.966054 \nL 331.799149 257.788727 \nL 338.324869 258.607893 \nL 344.850588 259.199331 \nL 353.007738 259.707145 \nL 364.427747 260.139302 \nL 379.110616 260.435661 \nL 385.636335 260.511609 \nL 385.636335 260.511609 \n\" clip-path=\"url(#pa2d138dbf4)\" style=\"fill: none; stroke: #cd85b9; stroke-width: 1.5; stroke-linecap: square\"/>\n   </g>\n   <g id=\"patch_3\">\n    <path d=\"M 44.749063 273.312 \nL 44.749063 7.2 \n\" style=\"fill: none; stroke: #000000; stroke-width: 0.8; stroke-linejoin: miter; stroke-linecap: square\"/>\n   </g>\n   <g id=\"patch_4\">\n    <path d=\"M 401.869063 273.312 \nL 401.869063 7.2 \n\" style=\"fill: none; stroke: #000000; stroke-width: 0.8; stroke-linejoin: miter; stroke-linecap: square\"/>\n   </g>\n   <g id=\"patch_5\">\n    <path d=\"M 44.749063 273.312 \nL 401.869062 273.312 \n\" style=\"fill: none; stroke: #000000; stroke-width: 0.8; stroke-linejoin: miter; stroke-linecap: square\"/>\n   </g>\n   <g id=\"patch_6\">\n    <path d=\"M 44.749063 7.2 \nL 401.869062 7.2 \n\" style=\"fill: none; stroke: #000000; stroke-width: 0.8; stroke-linejoin: miter; stroke-linecap: square\"/>\n   </g>\n   <g id=\"legend_1\">\n    <g id=\"patch_7\">\n     <path d=\"M 343.899062 183.431 \nL 394.169062 183.431 \nQ 396.369062 183.431 396.369062 181.231 \nL 396.369062 99.281 \nQ 396.369062 97.081 394.169062 97.081 \nL 343.899062 97.081 \nQ 341.699062 97.081 341.699062 99.281 \nL 341.699062 181.231 \nQ 341.699062 183.431 343.899062 183.431 \nz\n\" style=\"fill: #ffffff; opacity: 0.8; stroke: #cccccc; stroke-linejoin: miter\"/>\n    </g>\n    <g id=\"line2d_19\">\n     <path d=\"M 346.099062 106.101 \nL 357.099062 106.101 \nL 368.099062 106.101 \n\" style=\"fill: none; stroke: #016e82; stroke-width: 1.5; stroke-linecap: square\"/>\n    </g>\n    <g id=\"text_16\">\n     <!-- $|0\\rangle$ -->\n     <g transform=\"translate(376.899062 109.951)scale(0.11 -0.11)\">\n      <defs>\n       <path id=\"DejaVuSans-7c\" d=\"M 1344 4891 \nL 1344 -1509 \nL 813 -1509 \nL 813 4891 \nL 1344 4891 \nz\n\" transform=\"scale(0.015625)\"/>\n       <path id=\"DejaVuSans-27e9\" d=\"M 1925 2006 \nL 1044 -844 \nL 513 -844 \nL 1394 2006 \nL 513 4856 \nL 1044 4856 \nL 1925 2006 \nz\n\" transform=\"scale(0.015625)\"/>\n      </defs>\n      <use xlink:href=\"#DejaVuSans-7c\" transform=\"translate(0 0.578125)\"/>\n      <use xlink:href=\"#DejaVuSans-30\" transform=\"translate(33.691406 0.578125)\"/>\n      <use xlink:href=\"#DejaVuSans-27e9\" transform=\"translate(97.314453 0.578125)\"/>\n     </g>\n    </g>\n    <g id=\"line2d_20\">\n     <path d=\"M 346.099062 122.711 \nL 357.099062 122.711 \nL 368.099062 122.711 \n\" style=\"fill: none; stroke: #333795; stroke-width: 1.5; stroke-linecap: square\"/>\n    </g>\n    <g id=\"text_17\">\n     <!-- $|2\\rangle$ -->\n     <g transform=\"translate(376.899062 126.561)scale(0.11 -0.11)\">\n      <use xlink:href=\"#DejaVuSans-7c\" transform=\"translate(0 0.578125)\"/>\n      <use xlink:href=\"#DejaVuSans-32\" transform=\"translate(33.691406 0.578125)\"/>\n      <use xlink:href=\"#DejaVuSans-27e9\" transform=\"translate(97.314453 0.578125)\"/>\n     </g>\n    </g>\n    <g id=\"line2d_21\">\n     <path d=\"M 346.099062 139.321 \nL 357.099062 139.321 \nL 368.099062 139.321 \n\" style=\"fill: none; stroke: #2e5eac; stroke-width: 1.5; stroke-linecap: square\"/>\n    </g>\n    <g id=\"text_18\">\n     <!-- $|1\\rangle$ -->\n     <g transform=\"translate(376.899062 143.171)scale(0.11 -0.11)\">\n      <use xlink:href=\"#DejaVuSans-7c\" transform=\"translate(0 0.578125)\"/>\n      <use xlink:href=\"#DejaVuSans-31\" transform=\"translate(33.691406 0.578125)\"/>\n      <use xlink:href=\"#DejaVuSans-27e9\" transform=\"translate(97.314453 0.578125)\"/>\n     </g>\n    </g>\n    <g id=\"line2d_22\">\n     <path d=\"M 346.099062 155.931 \nL 357.099062 155.931 \nL 368.099062 155.931 \n\" style=\"fill: none; stroke: #4498d3; stroke-width: 1.5; stroke-linecap: square\"/>\n    </g>\n    <g id=\"text_19\">\n     <!-- $|3\\rangle$ -->\n     <g transform=\"translate(376.899062 159.781)scale(0.11 -0.11)\">\n      <defs>\n       <path id=\"DejaVuSans-33\" d=\"M 2597 2516 \nQ 3050 2419 3304 2112 \nQ 3559 1806 3559 1356 \nQ 3559 666 3084 287 \nQ 2609 -91 1734 -91 \nQ 1441 -91 1130 -33 \nQ 819 25 488 141 \nL 488 750 \nQ 750 597 1062 519 \nQ 1375 441 1716 441 \nQ 2309 441 2620 675 \nQ 2931 909 2931 1356 \nQ 2931 1769 2642 2001 \nQ 2353 2234 1838 2234 \nL 1294 2234 \nL 1294 2753 \nL 1863 2753 \nQ 2328 2753 2575 2939 \nQ 2822 3125 2822 3475 \nQ 2822 3834 2567 4026 \nQ 2313 4219 1838 4219 \nQ 1578 4219 1281 4162 \nQ 984 4106 628 3988 \nL 628 4550 \nQ 988 4650 1302 4700 \nQ 1616 4750 1894 4750 \nQ 2613 4750 3031 4423 \nQ 3450 4097 3450 3541 \nQ 3450 3153 3228 2886 \nQ 3006 2619 2597 2516 \nz\n\" transform=\"scale(0.015625)\"/>\n      </defs>\n      <use xlink:href=\"#DejaVuSans-7c\" transform=\"translate(0 0.578125)\"/>\n      <use xlink:href=\"#DejaVuSans-33\" transform=\"translate(33.691406 0.578125)\"/>\n      <use xlink:href=\"#DejaVuSans-27e9\" transform=\"translate(97.314453 0.578125)\"/>\n     </g>\n    </g>\n    <g id=\"line2d_23\">\n     <path d=\"M 346.099062 172.541 \nL 357.099062 172.541 \nL 368.099062 172.541 \n\" style=\"fill: none; stroke: #cd85b9; stroke-width: 1.5; stroke-linecap: square\"/>\n    </g>\n    <g id=\"text_20\">\n     <!-- $|7\\rangle$ -->\n     <g transform=\"translate(376.899062 176.391)scale(0.11 -0.11)\">\n      <defs>\n       <path id=\"DejaVuSans-37\" d=\"M 525 4666 \nL 3525 4666 \nL 3525 4397 \nL 1831 0 \nL 1172 0 \nL 2766 4134 \nL 525 4134 \nL 525 4666 \nz\n\" transform=\"scale(0.015625)\"/>\n      </defs>\n      <use xlink:href=\"#DejaVuSans-7c\" transform=\"translate(0 0.578125)\"/>\n      <use xlink:href=\"#DejaVuSans-37\" transform=\"translate(33.691406 0.578125)\"/>\n      <use xlink:href=\"#DejaVuSans-27e9\" transform=\"translate(97.314453 0.578125)\"/>\n     </g>\n    </g>\n   </g>\n  </g>\n </g>\n <defs>\n  <clipPath id=\"pa2d138dbf4\">\n   <rect x=\"44.749063\" y=\"7.2\" width=\"357.12\" height=\"266.112\"/>\n  </clipPath>\n </defs>\n</svg>\n",
      "text/plain": [
       "<Figure size 640x480 with 1 Axes>"
      ]
     },
     "metadata": {},
     "output_type": "display_data"
    }
   ],
   "source": [
    "tlist = np.linspace(0, 120, 200)  # total time\n",
    "\n",
    "# This simulation is just for viewing the affect of the pulse\n",
    "result = qt.sesolve(\n",
    "    H_qbt_drive, qt.basis(20, hilbertspace.dressed_index(product_states[3])), tlist, e_ops=[state * state.dag() for state in states]\n",
    ")\n",
    "\n",
    "for idx, res in zip(idxs, result.expect):\n",
    "    plt.plot(tlist, res, label=r\"$|%u\\rangle$\" % (idx))\n",
    "\n",
    "plt.legend()\n",
    "plt.ylabel(\"population\")\n",
    "plt.xlabel(\"t (ns)\")"
   ]
  },
  {
   "cell_type": "markdown",
   "metadata": {},
   "source": [
    "## Propagator calculation"
   ]
  },
  {
   "cell_type": "code",
   "execution_count": 100,
   "metadata": {},
   "outputs": [],
   "source": [
    "prop = qt.propagator(H_qbt_drive, tlist)[\n",
    "    -1\n",
    "]  # get the propagator at the final time step\n",
    "# truncate the propagator to the computational subspace\n",
    "Uc = qt.Qobj(\n",
    "    [\n",
    "        [prop.matrix_element(s1, s2) for s1 in computational_subspace]\n",
    "        for s2 in computational_subspace\n",
    "    ]\n",
    ")"
   ]
  },
  {
   "cell_type": "code",
   "execution_count": 101,
   "metadata": {},
   "outputs": [],
   "source": [
    "# Factor global phase so that upper-left corner of matrix is real\n",
    "def remove_global_phase(op):\n",
    "    return op * np.exp(-1j * cmath.phase(op[0, 0]))\n",
    "\n",
    "\n",
    "# The process for obtaining the Z rotations is taken from page 3 of Nesterov et al., at the\n",
    "# bottom of the paragraph beginning, \"To model gate operation...\"\n",
    "def dphi(state):\n",
    "    return -np.angle(prop.matrix_element(state, state)) + np.angle(\n",
    "        prop.matrix_element(states[0], states[0])\n",
    "    )"
   ]
  },
  {
   "cell_type": "code",
   "execution_count": 102,
   "metadata": {},
   "outputs": [
    {
     "data": {
      "text/latex": [
       "Quantum object: dims = [[2, 2], [2, 2]], shape = (4, 4), type = oper, isherm = False\\begin{equation*}\\left(\\begin{array}{*{11}c}1.000 & (-3.345\\times10^{-07}+1.630\\times10^{-07}j) & (6.519\\times10^{-06}-2.775\\times10^{-05}j) & (2.369\\times10^{-07}-6.967\\times10^{-07}j)\\\\(3.358\\times10^{-07}+1.638\\times10^{-07}j) & 0.996 & (-3.284\\times10^{-06}+5.596\\times10^{-06}j) & (3.516\\times10^{-06}-2.658\\times10^{-05}j)\\\\(-6.506\\times10^{-06}-2.769\\times10^{-05}j) & (2.161\\times10^{-06}+2.715\\times10^{-06}j) & 1.000 & (-1.448\\times10^{-06}+4.600\\times10^{-07}j)\\\\(5.746\\times10^{-08}-1.721\\times10^{-07}j) & (-2.283\\times10^{-06}+2.659\\times10^{-05}j) & (-1.318\\times10^{-06}-7.601\\times10^{-07}j) & (-0.976-0.213j)\\\\\\end{array}\\right)\\end{equation*}"
      ],
      "text/plain": [
       "Quantum object: dims = [[2, 2], [2, 2]], shape = (4, 4), type = oper, isherm = False\n",
       "Qobj data =\n",
       "[[ 9.99997115e-01+0.00000000e+00j -3.34460030e-07+1.63035378e-07j\n",
       "   6.51887389e-06-2.77484094e-05j  2.36875607e-07-6.96683277e-07j]\n",
       " [ 3.35787535e-07+1.63846346e-07j  9.95527822e-01+0.00000000e+00j\n",
       "  -3.28389690e-06+5.59614102e-06j  3.51598749e-06-2.65834162e-05j]\n",
       " [-6.50572603e-06-2.76918115e-05j  2.16108177e-06+2.71512919e-06j\n",
       "   9.99709872e-01+0.00000000e+00j -1.44791284e-06+4.60039012e-07j]\n",
       " [ 5.74571284e-08-1.72061451e-07j -2.28280432e-06+2.65886202e-05j\n",
       "  -1.31821859e-06-7.60102243e-07j -9.75776880e-01-2.12632086e-01j]]"
      ]
     },
     "execution_count": 102,
     "metadata": {},
     "output_type": "execute_result"
    }
   ],
   "source": [
    "# product of single-qubit Z-gates\n",
    "Uz = remove_global_phase(qt.tensor(rz(dphi(states[2])), rz(dphi(states[1]))))\n",
    "Uc_reshaped = qt.Qobj(Uc.data, dims=[[2, 2], [2, 2]])\n",
    "Ucprime = remove_global_phase(Uz * Uc_reshaped)\n",
    "Ucprime  # result should be close to diag(1,1,1,-1)"
   ]
  },
  {
   "cell_type": "code",
   "execution_count": 103,
   "metadata": {},
   "outputs": [
    {
     "data": {
      "text/plain": [
       "0.9900994432867515"
      ]
     },
     "execution_count": 103,
     "metadata": {},
     "output_type": "execute_result"
    }
   ],
   "source": [
    "#fidelity measure given on page 3 of Nesterov et al.\n",
    "((Ucprime.dag() * Ucprime).tr() + np.abs((Ucprime.dag() * cz_gate()).tr()) ** 2) / 20"
   ]
  }
 ],
 "metadata": {
  "kernelspec": {
   "display_name": "base",
   "language": "python",
   "name": "python3"
  },
  "language_info": {
   "codemirror_mode": {
    "name": "ipython",
    "version": 3
   },
   "file_extension": ".py",
   "mimetype": "text/x-python",
   "name": "python",
   "nbconvert_exporter": "python",
   "pygments_lexer": "ipython3",
   "version": "3.8.3"
  },
  "vscode": {
   "interpreter": {
    "hash": "f7e1e6ad09d196a93f40716548eb447094128ac28363ee78c20c7751b30b0cbc"
   }
  }
 },
 "nbformat": 4,
 "nbformat_minor": 2
}
